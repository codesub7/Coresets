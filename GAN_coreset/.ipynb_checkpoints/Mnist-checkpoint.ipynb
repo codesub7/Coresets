{
 "cells": [
  {
   "cell_type": "markdown",
   "metadata": {
    "collapsed": true
   },
   "source": [
    "# Normalizing flows with MNIST a simple implementation of the Glow paper"
   ]
  },
  {
   "cell_type": "markdown",
   "metadata": {},
   "source": [
    "This notebook trains model within ~1-2 hours."
   ]
  },
  {
   "cell_type": "code",
   "execution_count": 1,
   "metadata": {},
   "outputs": [],
   "source": [
    "import numpy as np\n",
    "import tensorflow as tf\n",
    "from scipy.stats import norm\n",
    "import matplotlib.pyplot as plt\n",
    "\n",
    "%matplotlib inline\n",
    "%load_ext autoreload\n",
    "%autoreload 2"
   ]
  },
  {
   "cell_type": "markdown",
   "metadata": {
    "ExecuteTime": {
     "end_time": "2018-10-04T13:15:31.716054Z",
     "start_time": "2018-10-04T13:15:31.713926Z"
    }
   },
   "source": [
    "## Import dataset"
   ]
  },
  {
   "cell_type": "code",
   "execution_count": 2,
   "metadata": {},
   "outputs": [
    {
     "data": {
      "text/plain": [
       "((60000, 28, 28), (10000, 28, 28), (60000,), (10000,))"
      ]
     },
     "execution_count": 2,
     "metadata": {},
     "output_type": "execute_result"
    }
   ],
   "source": [
    "import tensorflow as tf\n",
    "\n",
    "mnist = tf.keras.datasets.mnist\n",
    "\n",
    "(x_train, y_train),(x_test, y_test) = mnist.load_data()\n",
    "x_train, x_test = x_train / 255.0, x_test / 255.0\n",
    "\n",
    "x_train.shape, x_test.shape, y_train.shape, y_test.shape"
   ]
  },
  {
   "cell_type": "markdown",
   "metadata": {},
   "source": [
    "### Convert dataset to the tf.data.Dataset"
   ]
  },
  {
   "cell_type": "code",
   "execution_count": 3,
   "metadata": {},
   "outputs": [
    {
     "name": "stdout",
     "output_type": "stream",
     "text": [
      "WARNING:tensorflow:\n",
      "The TensorFlow contrib module will not be included in TensorFlow 2.0.\n",
      "For more information, please see:\n",
      "  * https://github.com/tensorflow/community/blob/master/rfcs/20180907-contrib-sunset.md\n",
      "  * https://github.com/tensorflow/addons\n",
      "  * https://github.com/tensorflow/io (for I/O related ops)\n",
      "If you depend on functionality not listed there, please file an issue.\n",
      "\n",
      "WARNING:tensorflow:From /workspace/GAN_coreset/nets.py:219: The name tf.Session is deprecated. Please use tf.compat.v1.Session instead.\n",
      "\n"
     ]
    }
   ],
   "source": [
    "import utils\n",
    "import nets\n",
    "import flow_layers as fl"
   ]
  },
  {
   "cell_type": "code",
   "execution_count": 4,
   "metadata": {},
   "outputs": [
    {
     "name": "stdout",
     "output_type": "stream",
     "text": [
      "WARNING:tensorflow:From /workspace/GAN_coreset/utils.py:21: shuffle_and_repeat (from tensorflow.contrib.data.python.ops.shuffle_ops) is deprecated and will be removed in a future version.\n",
      "Instructions for updating:\n",
      "Use `tf.data.experimental.shuffle_and_repeat(...)`.\n",
      "WARNING:tensorflow:From /workspace/miniconda3/envs/realnvp/lib/python3.7/site-packages/tensorflow_core/contrib/data/python/ops/shuffle_ops.py:54: shuffle_and_repeat (from tensorflow.python.data.experimental.ops.shuffle_ops) is deprecated and will be removed in a future version.\n",
      "Instructions for updating:\n",
      "Use `tf.data.Dataset.shuffle(buffer_size, seed)` followed by `tf.data.Dataset.repeat(count)`. Static tf.data optimizations will take care of using the fused implementation.\n"
     ]
    }
   ],
   "source": [
    "batch_size = 32\n",
    "train_dataset = utils.numpy_array_to_dataset(array=x_train, batch_size=batch_size)"
   ]
  },
  {
   "cell_type": "code",
   "execution_count": 5,
   "metadata": {},
   "outputs": [
    {
     "name": "stdout",
     "output_type": "stream",
     "text": [
      "WARNING:tensorflow:From <ipython-input-5-6fbcf1287f48>:1: DatasetV1.make_one_shot_iterator (from tensorflow.python.data.ops.dataset_ops) is deprecated and will be removed in a future version.\n",
      "Instructions for updating:\n",
      "Use `for ... in dataset:` to iterate over a dataset. If using `tf.estimator`, return the `Dataset` object directly from your input function. As a last resort, you can use `tf.compat.v1.data.make_one_shot_iterator(dataset)`.\n"
     ]
    }
   ],
   "source": [
    "x_train_samples = train_dataset.make_one_shot_iterator().get_next()"
   ]
  },
  {
   "cell_type": "code",
   "execution_count": 6,
   "metadata": {},
   "outputs": [
    {
     "data": {
      "text/plain": [
       "<tf.Tensor 'ResizeBilinear:0' shape=(32, 24, 24, 1) dtype=float32>"
      ]
     },
     "execution_count": 6,
     "metadata": {},
     "output_type": "execute_result"
    }
   ],
   "source": [
    "x_train_samples = tf.reshape(x_train_samples, [batch_size, 28, 28, 1])\n",
    "x_train_samples = tf.image.resize_bilinear(x_train_samples, size=(24, 24))\n",
    "x_train_samples"
   ]
  },
  {
   "cell_type": "code",
   "execution_count": 7,
   "metadata": {},
   "outputs": [],
   "source": [
    "tf.set_random_seed(0)\n",
    "sess = tf.InteractiveSession()"
   ]
  },
  {
   "cell_type": "markdown",
   "metadata": {},
   "source": [
    "### Check shapes"
   ]
  },
  {
   "cell_type": "code",
   "execution_count": 8,
   "metadata": {},
   "outputs": [
    {
     "data": {
      "text/plain": [
       "((32, 24, 24, 1), 1.0)"
      ]
     },
     "execution_count": 8,
     "metadata": {},
     "output_type": "execute_result"
    }
   ],
   "source": [
    "x_train_samples.eval().shape, x_train_samples.eval().max()"
   ]
  },
  {
   "cell_type": "markdown",
   "metadata": {},
   "source": [
    "## Build Flow with Resnet blocks "
   ]
  },
  {
   "cell_type": "code",
   "execution_count": 9,
   "metadata": {},
   "outputs": [],
   "source": [
    "nn_template_fn = nets.ResentTemplate(\n",
    "    units_factor=6, num_blocks=3\n",
    ")"
   ]
  },
  {
   "cell_type": "markdown",
   "metadata": {},
   "source": [
    "* the more steps the better. At the begining I have tried with num_steps=1, or 2 but model was not learning at all"
   ]
  },
  {
   "cell_type": "code",
   "execution_count": 10,
   "metadata": {},
   "outputs": [
    {
     "name": "stdout",
     "output_type": "stream",
     "text": [
      "WARNING:tensorflow:From /workspace/GAN_coreset/flow_layers.py:112: The name tf.variable_scope is deprecated. Please use tf.compat.v1.variable_scope instead.\n",
      "\n",
      "WARNING:tensorflow:From /workspace/GAN_coreset/flow_layers.py:216: The name tf.random_uniform is deprecated. Please use tf.random.uniform instead.\n",
      "\n",
      "QuantizeImage/Forward/                  : x=[32, 24, 24, 1]\tz=[None]\tlogdet=[32]\n",
      "WARNING:tensorflow:From /workspace/GAN_coreset/flow_layers.py:257: The name tf.space_to_depth is deprecated. Please use tf.compat.v1.space_to_depth instead.\n",
      "\n",
      "SqueezingLayer/Forward/Scale1           : x=[32, 12, 12, 4]\tz=[None]\tlogdet=[32]\n",
      "WARNING:tensorflow:From /workspace/GAN_coreset/flow_layers.py:469: The name tf.get_variable is deprecated. Please use tf.compat.v1.get_variable instead.\n",
      "\n",
      "ActnormBiasLayer/Forward/               : x=[32, 12, 12, 4]\tz=[None]\tlogdet=[32]\n",
      "ActnormScaleLayer/Forward/              : x=[32, 12, 12, 4]\tz=[None]\tlogdet=[32]\n",
      "ChainLayer/Forward/                     : x=[32, 12, 12, 4]\tz=[None]\tlogdet=[32]\n",
      "ActnormLayer/Forward/                   : x=[32, 12, 12, 4]\tz=[None]\tlogdet=[32]\n",
      "WARNING:tensorflow:From /workspace/GAN_coreset/flow_layers.py:690: The name tf.diag is deprecated. Please use tf.linalg.tensor_diag instead.\n",
      "\n",
      "WARNING:tensorflow:From /workspace/GAN_coreset/flow_layers.py:694: The name tf.matrix_inverse is deprecated. Please use tf.linalg.inv instead.\n",
      "\n",
      "InvertibleConv1x1Layer/Forward/         : x=[32, 12, 12, 4]\tz=[None]\tlogdet=[32]\n",
      "WARNING:tensorflow:From /workspace/miniconda3/envs/realnvp/lib/python3.7/site-packages/tensorflow_core/contrib/layers/python/layers/layers.py:1057: Layer.apply (from tensorflow.python.keras.engine.base_layer) is deprecated and will be removed in a future version.\n",
      "Instructions for updating:\n",
      "Please use `layer.__call__` method instead.\n",
      "WARNING:tensorflow:From /workspace/GAN_coreset/tf_ops.py:281: The name tf.add_to_collection is deprecated. Please use tf.compat.v1.add_to_collection instead.\n",
      "\n",
      "WARNING:tensorflow:From /workspace/GAN_coreset/flow_layers.py:761: The name tf.log is deprecated. Please use tf.math.log instead.\n",
      "\n",
      "AffineCouplingLayer/Forward/            : x=[32, 12, 12, 4]\tz=[None]\tlogdet=[32]\n",
      "ChainLayer/Forward/Step1                : x=[32, 12, 12, 4]\tz=[None]\tlogdet=[32]\n",
      "ActnormBiasLayer/Forward/               : x=[32, 12, 12, 4]\tz=[None]\tlogdet=[32]\n",
      "ActnormScaleLayer/Forward/              : x=[32, 12, 12, 4]\tz=[None]\tlogdet=[32]\n",
      "ChainLayer/Forward/                     : x=[32, 12, 12, 4]\tz=[None]\tlogdet=[32]\n",
      "ActnormLayer/Forward/                   : x=[32, 12, 12, 4]\tz=[None]\tlogdet=[32]\n",
      "InvertibleConv1x1Layer/Forward/         : x=[32, 12, 12, 4]\tz=[None]\tlogdet=[32]\n",
      "AffineCouplingLayer/Forward/            : x=[32, 12, 12, 4]\tz=[None]\tlogdet=[32]\n",
      "ChainLayer/Forward/Step2                : x=[32, 12, 12, 4]\tz=[None]\tlogdet=[32]\n",
      "ActnormBiasLayer/Forward/               : x=[32, 12, 12, 4]\tz=[None]\tlogdet=[32]\n",
      "ActnormScaleLayer/Forward/              : x=[32, 12, 12, 4]\tz=[None]\tlogdet=[32]\n",
      "ChainLayer/Forward/                     : x=[32, 12, 12, 4]\tz=[None]\tlogdet=[32]\n",
      "ActnormLayer/Forward/                   : x=[32, 12, 12, 4]\tz=[None]\tlogdet=[32]\n",
      "InvertibleConv1x1Layer/Forward/         : x=[32, 12, 12, 4]\tz=[None]\tlogdet=[32]\n",
      "AffineCouplingLayer/Forward/            : x=[32, 12, 12, 4]\tz=[None]\tlogdet=[32]\n",
      "ChainLayer/Forward/Step3                : x=[32, 12, 12, 4]\tz=[None]\tlogdet=[32]\n",
      "ActnormBiasLayer/Forward/               : x=[32, 12, 12, 4]\tz=[None]\tlogdet=[32]\n",
      "ActnormScaleLayer/Forward/              : x=[32, 12, 12, 4]\tz=[None]\tlogdet=[32]\n",
      "ChainLayer/Forward/                     : x=[32, 12, 12, 4]\tz=[None]\tlogdet=[32]\n",
      "ActnormLayer/Forward/                   : x=[32, 12, 12, 4]\tz=[None]\tlogdet=[32]\n",
      "InvertibleConv1x1Layer/Forward/         : x=[32, 12, 12, 4]\tz=[None]\tlogdet=[32]\n",
      "AffineCouplingLayer/Forward/            : x=[32, 12, 12, 4]\tz=[None]\tlogdet=[32]\n",
      "ChainLayer/Forward/Step4                : x=[32, 12, 12, 4]\tz=[None]\tlogdet=[32]\n",
      "ActnormBiasLayer/Forward/               : x=[32, 12, 12, 4]\tz=[None]\tlogdet=[32]\n",
      "ActnormScaleLayer/Forward/              : x=[32, 12, 12, 4]\tz=[None]\tlogdet=[32]\n",
      "ChainLayer/Forward/                     : x=[32, 12, 12, 4]\tz=[None]\tlogdet=[32]\n",
      "ActnormLayer/Forward/                   : x=[32, 12, 12, 4]\tz=[None]\tlogdet=[32]\n",
      "InvertibleConv1x1Layer/Forward/         : x=[32, 12, 12, 4]\tz=[None]\tlogdet=[32]\n",
      "AffineCouplingLayer/Forward/            : x=[32, 12, 12, 4]\tz=[None]\tlogdet=[32]\n",
      "ChainLayer/Forward/Step5                : x=[32, 12, 12, 4]\tz=[None]\tlogdet=[32]\n",
      "ChainLayer/Forward/Scale1               : x=[32, 12, 12, 4]\tz=[None]\tlogdet=[32]\n",
      "FactorOutLayer/Forward/Scale1           : x=[32, 12, 12, 2]\tz=[32, 12, 12, 2]\tlogdet=[32]\n",
      "SqueezingLayer/Forward/Scale2           : x=[32, 6, 6, 8]\tz=[32, 6, 6, 8]\tlogdet=[32]\n",
      "ActnormBiasLayer/Forward/               : x=[32, 6, 6, 8]\tz=[32, 6, 6, 8]\tlogdet=[32]\n",
      "ActnormScaleLayer/Forward/              : x=[32, 6, 6, 8]\tz=[32, 6, 6, 8]\tlogdet=[32]\n",
      "ChainLayer/Forward/                     : x=[32, 6, 6, 8]\tz=[32, 6, 6, 8]\tlogdet=[32]\n",
      "ActnormLayer/Forward/                   : x=[32, 6, 6, 8]\tz=[32, 6, 6, 8]\tlogdet=[32]\n",
      "InvertibleConv1x1Layer/Forward/         : x=[32, 6, 6, 8]\tz=[32, 6, 6, 8]\tlogdet=[32]\n",
      "AffineCouplingLayer/Forward/            : x=[32, 6, 6, 8]\tz=[32, 6, 6, 8]\tlogdet=[32]\n",
      "ChainLayer/Forward/Step1                : x=[32, 6, 6, 8]\tz=[32, 6, 6, 8]\tlogdet=[32]\n",
      "ActnormBiasLayer/Forward/               : x=[32, 6, 6, 8]\tz=[32, 6, 6, 8]\tlogdet=[32]\n",
      "ActnormScaleLayer/Forward/              : x=[32, 6, 6, 8]\tz=[32, 6, 6, 8]\tlogdet=[32]\n",
      "ChainLayer/Forward/                     : x=[32, 6, 6, 8]\tz=[32, 6, 6, 8]\tlogdet=[32]\n",
      "ActnormLayer/Forward/                   : x=[32, 6, 6, 8]\tz=[32, 6, 6, 8]\tlogdet=[32]\n",
      "InvertibleConv1x1Layer/Forward/         : x=[32, 6, 6, 8]\tz=[32, 6, 6, 8]\tlogdet=[32]\n",
      "AffineCouplingLayer/Forward/            : x=[32, 6, 6, 8]\tz=[32, 6, 6, 8]\tlogdet=[32]\n",
      "ChainLayer/Forward/Step2                : x=[32, 6, 6, 8]\tz=[32, 6, 6, 8]\tlogdet=[32]\n",
      "ActnormBiasLayer/Forward/               : x=[32, 6, 6, 8]\tz=[32, 6, 6, 8]\tlogdet=[32]\n",
      "ActnormScaleLayer/Forward/              : x=[32, 6, 6, 8]\tz=[32, 6, 6, 8]\tlogdet=[32]\n",
      "ChainLayer/Forward/                     : x=[32, 6, 6, 8]\tz=[32, 6, 6, 8]\tlogdet=[32]\n",
      "ActnormLayer/Forward/                   : x=[32, 6, 6, 8]\tz=[32, 6, 6, 8]\tlogdet=[32]\n",
      "InvertibleConv1x1Layer/Forward/         : x=[32, 6, 6, 8]\tz=[32, 6, 6, 8]\tlogdet=[32]\n",
      "AffineCouplingLayer/Forward/            : x=[32, 6, 6, 8]\tz=[32, 6, 6, 8]\tlogdet=[32]\n",
      "ChainLayer/Forward/Step3                : x=[32, 6, 6, 8]\tz=[32, 6, 6, 8]\tlogdet=[32]\n",
      "ActnormBiasLayer/Forward/               : x=[32, 6, 6, 8]\tz=[32, 6, 6, 8]\tlogdet=[32]\n",
      "ActnormScaleLayer/Forward/              : x=[32, 6, 6, 8]\tz=[32, 6, 6, 8]\tlogdet=[32]\n",
      "ChainLayer/Forward/                     : x=[32, 6, 6, 8]\tz=[32, 6, 6, 8]\tlogdet=[32]\n",
      "ActnormLayer/Forward/                   : x=[32, 6, 6, 8]\tz=[32, 6, 6, 8]\tlogdet=[32]\n",
      "InvertibleConv1x1Layer/Forward/         : x=[32, 6, 6, 8]\tz=[32, 6, 6, 8]\tlogdet=[32]\n",
      "AffineCouplingLayer/Forward/            : x=[32, 6, 6, 8]\tz=[32, 6, 6, 8]\tlogdet=[32]\n",
      "ChainLayer/Forward/Step4                : x=[32, 6, 6, 8]\tz=[32, 6, 6, 8]\tlogdet=[32]\n",
      "ActnormBiasLayer/Forward/               : x=[32, 6, 6, 8]\tz=[32, 6, 6, 8]\tlogdet=[32]\n",
      "ActnormScaleLayer/Forward/              : x=[32, 6, 6, 8]\tz=[32, 6, 6, 8]\tlogdet=[32]\n",
      "ChainLayer/Forward/                     : x=[32, 6, 6, 8]\tz=[32, 6, 6, 8]\tlogdet=[32]\n",
      "ActnormLayer/Forward/                   : x=[32, 6, 6, 8]\tz=[32, 6, 6, 8]\tlogdet=[32]\n",
      "InvertibleConv1x1Layer/Forward/         : x=[32, 6, 6, 8]\tz=[32, 6, 6, 8]\tlogdet=[32]\n",
      "AffineCouplingLayer/Forward/            : x=[32, 6, 6, 8]\tz=[32, 6, 6, 8]\tlogdet=[32]\n",
      "ChainLayer/Forward/Step5                : x=[32, 6, 6, 8]\tz=[32, 6, 6, 8]\tlogdet=[32]\n",
      "ChainLayer/Forward/Scale2               : x=[32, 6, 6, 8]\tz=[32, 6, 6, 8]\tlogdet=[32]\n",
      "FactorOutLayer/Forward/Scale2           : x=[32, 6, 6, 4]\tz=[32, 6, 6, 12]\tlogdet=[32]\n",
      "SqueezingLayer/Forward/Scale3           : x=[32, 3, 3, 16]\tz=[32, 3, 3, 48]\tlogdet=[32]\n",
      "ActnormBiasLayer/Forward/               : x=[32, 3, 3, 16]\tz=[32, 3, 3, 48]\tlogdet=[32]\n",
      "ActnormScaleLayer/Forward/              : x=[32, 3, 3, 16]\tz=[32, 3, 3, 48]\tlogdet=[32]\n",
      "ChainLayer/Forward/                     : x=[32, 3, 3, 16]\tz=[32, 3, 3, 48]\tlogdet=[32]\n",
      "ActnormLayer/Forward/                   : x=[32, 3, 3, 16]\tz=[32, 3, 3, 48]\tlogdet=[32]\n",
      "InvertibleConv1x1Layer/Forward/         : x=[32, 3, 3, 16]\tz=[32, 3, 3, 48]\tlogdet=[32]\n"
     ]
    },
    {
     "name": "stdout",
     "output_type": "stream",
     "text": [
      "AffineCouplingLayer/Forward/            : x=[32, 3, 3, 16]\tz=[32, 3, 3, 48]\tlogdet=[32]\n",
      "ChainLayer/Forward/Step1                : x=[32, 3, 3, 16]\tz=[32, 3, 3, 48]\tlogdet=[32]\n",
      "ActnormBiasLayer/Forward/               : x=[32, 3, 3, 16]\tz=[32, 3, 3, 48]\tlogdet=[32]\n",
      "ActnormScaleLayer/Forward/              : x=[32, 3, 3, 16]\tz=[32, 3, 3, 48]\tlogdet=[32]\n",
      "ChainLayer/Forward/                     : x=[32, 3, 3, 16]\tz=[32, 3, 3, 48]\tlogdet=[32]\n",
      "ActnormLayer/Forward/                   : x=[32, 3, 3, 16]\tz=[32, 3, 3, 48]\tlogdet=[32]\n",
      "InvertibleConv1x1Layer/Forward/         : x=[32, 3, 3, 16]\tz=[32, 3, 3, 48]\tlogdet=[32]\n",
      "AffineCouplingLayer/Forward/            : x=[32, 3, 3, 16]\tz=[32, 3, 3, 48]\tlogdet=[32]\n",
      "ChainLayer/Forward/Step2                : x=[32, 3, 3, 16]\tz=[32, 3, 3, 48]\tlogdet=[32]\n",
      "ActnormBiasLayer/Forward/               : x=[32, 3, 3, 16]\tz=[32, 3, 3, 48]\tlogdet=[32]\n",
      "ActnormScaleLayer/Forward/              : x=[32, 3, 3, 16]\tz=[32, 3, 3, 48]\tlogdet=[32]\n",
      "ChainLayer/Forward/                     : x=[32, 3, 3, 16]\tz=[32, 3, 3, 48]\tlogdet=[32]\n",
      "ActnormLayer/Forward/                   : x=[32, 3, 3, 16]\tz=[32, 3, 3, 48]\tlogdet=[32]\n",
      "InvertibleConv1x1Layer/Forward/         : x=[32, 3, 3, 16]\tz=[32, 3, 3, 48]\tlogdet=[32]\n",
      "AffineCouplingLayer/Forward/            : x=[32, 3, 3, 16]\tz=[32, 3, 3, 48]\tlogdet=[32]\n",
      "ChainLayer/Forward/Step3                : x=[32, 3, 3, 16]\tz=[32, 3, 3, 48]\tlogdet=[32]\n",
      "ActnormBiasLayer/Forward/               : x=[32, 3, 3, 16]\tz=[32, 3, 3, 48]\tlogdet=[32]\n",
      "ActnormScaleLayer/Forward/              : x=[32, 3, 3, 16]\tz=[32, 3, 3, 48]\tlogdet=[32]\n",
      "ChainLayer/Forward/                     : x=[32, 3, 3, 16]\tz=[32, 3, 3, 48]\tlogdet=[32]\n",
      "ActnormLayer/Forward/                   : x=[32, 3, 3, 16]\tz=[32, 3, 3, 48]\tlogdet=[32]\n",
      "InvertibleConv1x1Layer/Forward/         : x=[32, 3, 3, 16]\tz=[32, 3, 3, 48]\tlogdet=[32]\n",
      "AffineCouplingLayer/Forward/            : x=[32, 3, 3, 16]\tz=[32, 3, 3, 48]\tlogdet=[32]\n",
      "ChainLayer/Forward/Step4                : x=[32, 3, 3, 16]\tz=[32, 3, 3, 48]\tlogdet=[32]\n",
      "ActnormBiasLayer/Forward/               : x=[32, 3, 3, 16]\tz=[32, 3, 3, 48]\tlogdet=[32]\n",
      "ActnormScaleLayer/Forward/              : x=[32, 3, 3, 16]\tz=[32, 3, 3, 48]\tlogdet=[32]\n",
      "ChainLayer/Forward/                     : x=[32, 3, 3, 16]\tz=[32, 3, 3, 48]\tlogdet=[32]\n",
      "ActnormLayer/Forward/                   : x=[32, 3, 3, 16]\tz=[32, 3, 3, 48]\tlogdet=[32]\n",
      "InvertibleConv1x1Layer/Forward/         : x=[32, 3, 3, 16]\tz=[32, 3, 3, 48]\tlogdet=[32]\n",
      "AffineCouplingLayer/Forward/            : x=[32, 3, 3, 16]\tz=[32, 3, 3, 48]\tlogdet=[32]\n",
      "ChainLayer/Forward/Step5                : x=[32, 3, 3, 16]\tz=[32, 3, 3, 48]\tlogdet=[32]\n",
      "ChainLayer/Forward/Scale3               : x=[32, 3, 3, 16]\tz=[32, 3, 3, 48]\tlogdet=[32]\n",
      "FactorOutLayer/Forward/Scale3           : x=[32, 3, 3, 8]\tz=[32, 3, 3, 56]\tlogdet=[32]\n",
      "ChainLayer/Forward/                     : x=[32, 3, 3, 8]\tz=[32, 3, 3, 56]\tlogdet=[32]\n"
     ]
    }
   ],
   "source": [
    "layers, actnorm_layers = nets.create_simple_flow(\n",
    "    num_steps=5, \n",
    "    num_scales=3, \n",
    "    template_fn=nn_template_fn\n",
    ")\n",
    "# create model\n",
    "images = x_train_samples\n",
    "images = tf.placeholder(tf.float32, shape= (32, 24, 24, 1), name= 'features_batch')\n",
    "flow = fl.InputLayer(images)\n",
    "model_flow = fl.ChainLayer(layers)\n",
    "output_flow = model_flow(flow, forward=True)"
   ]
  },
  {
   "cell_type": "markdown",
   "metadata": {
    "collapsed": true
   },
   "source": [
    "## Prepare output tensors"
   ]
  },
  {
   "cell_type": "code",
   "execution_count": 11,
   "metadata": {},
   "outputs": [
    {
     "data": {
      "text/plain": [
       "(<tf.Tensor 'ChainLayer/outputs/x:0' shape=(32, 3, 3, 8) dtype=float32>,\n",
       " <tf.Tensor 'ChainLayer/outputs/lodget:0' shape=(32,) dtype=float32>,\n",
       " <tf.Tensor 'ChainLayer/outputs/z:0' shape=(32, 3, 3, 56) dtype=float32>)"
      ]
     },
     "execution_count": 11,
     "metadata": {},
     "output_type": "execute_result"
    }
   ],
   "source": [
    "y, logdet, z = output_flow\n",
    "output_flow"
   ]
  },
  {
   "cell_type": "markdown",
   "metadata": {},
   "source": [
    "## Build loss function and prior distributions for p(y) and p(z)\n",
    "\n",
    "* Here simply the $-logp(x)$"
   ]
  },
  {
   "cell_type": "code",
   "execution_count": 12,
   "metadata": {},
   "outputs": [
    {
     "name": "stdout",
     "output_type": "stream",
     "text": [
      "WARNING:tensorflow:From <ipython-input-12-da54f246869b>:8: MultivariateNormalDiag.__init__ (from tensorflow.contrib.distributions.python.ops.mvn_diag) is deprecated and will be removed after 2018-10-01.\n",
      "Instructions for updating:\n",
      "The TensorFlow Distributions library has moved to TensorFlow Probability (https://github.com/tensorflow/probability). You should update all references to use `tfp.distributions` instead of `tf.contrib.distributions`.\n",
      "WARNING:tensorflow:From /workspace/miniconda3/envs/realnvp/lib/python3.7/site-packages/tensorflow_core/contrib/distributions/python/ops/mvn_diag.py:224: MultivariateNormalLinearOperator.__init__ (from tensorflow.contrib.distributions.python.ops.mvn_linear_operator) is deprecated and will be removed after 2018-10-01.\n",
      "Instructions for updating:\n",
      "The TensorFlow Distributions library has moved to TensorFlow Probability (https://github.com/tensorflow/probability). You should update all references to use `tfp.distributions` instead of `tf.contrib.distributions`.\n",
      "WARNING:tensorflow:From /workspace/miniconda3/envs/realnvp/lib/python3.7/site-packages/tensorflow_core/contrib/distributions/python/ops/mvn_linear_operator.py:199: Normal.__init__ (from tensorflow.python.ops.distributions.normal) is deprecated and will be removed after 2019-01-01.\n",
      "Instructions for updating:\n",
      "The TensorFlow Distributions library has moved to TensorFlow Probability (https://github.com/tensorflow/probability). You should update all references to use `tfp.distributions` instead of `tf.distributions`.\n",
      "WARNING:tensorflow:From /workspace/miniconda3/envs/realnvp/lib/python3.7/site-packages/tensorflow_core/python/ops/distributions/normal.py:160: Distribution.__init__ (from tensorflow.python.ops.distributions.distribution) is deprecated and will be removed after 2019-01-01.\n",
      "Instructions for updating:\n",
      "The TensorFlow Distributions library has moved to TensorFlow Probability (https://github.com/tensorflow/probability). You should update all references to use `tfp.distributions` instead of `tf.distributions`.\n",
      "WARNING:tensorflow:From /workspace/miniconda3/envs/realnvp/lib/python3.7/site-packages/tensorflow_core/contrib/distributions/python/ops/mvn_linear_operator.py:201: AffineLinearOperator.__init__ (from tensorflow.contrib.distributions.python.ops.bijectors.affine_linear_operator) is deprecated and will be removed after 2018-10-01.\n",
      "Instructions for updating:\n",
      "The TensorFlow Distributions library has moved to TensorFlow Probability (https://github.com/tensorflow/probability). You should update all references to use `tfp.distributions` instead of `tf.contrib.distributions`.\n",
      "WARNING:tensorflow:From /workspace/miniconda3/envs/realnvp/lib/python3.7/site-packages/tensorflow_core/contrib/distributions/python/ops/bijectors/affine_linear_operator.py:158: _DistributionShape.__init__ (from tensorflow.contrib.distributions.python.ops.shape) is deprecated and will be removed after 2018-10-01.\n",
      "Instructions for updating:\n",
      "The TensorFlow Distributions library has moved to TensorFlow Probability (https://github.com/tensorflow/probability). You should update all references to use `tfp.distributions` instead of `tf.contrib.distributions`.\n",
      "WARNING:tensorflow:From /workspace/miniconda3/envs/realnvp/lib/python3.7/site-packages/tensorflow_core/contrib/distributions/python/ops/mvn_linear_operator.py:205: TransformedDistribution.__init__ (from tensorflow.python.ops.distributions.transformed_distribution) is deprecated and will be removed after 2019-01-01.\n",
      "Instructions for updating:\n",
      "The TensorFlow Distributions library has moved to TensorFlow Probability (https://github.com/tensorflow/probability). You should update all references to use `tfp.distributions` instead of `tf.distributions`.\n"
     ]
    }
   ],
   "source": [
    "tfd = tf.contrib.distributions\n",
    "\n",
    "beta_ph = tf.placeholder(tf.float32, [])\n",
    "\n",
    "y_flatten = tf.reshape(y, [batch_size, -1])\n",
    "z_flatten = tf.reshape(z, [batch_size, -1])\n",
    "\n",
    "with tf.variable_scope(\"latent_space\"):\n",
    "    latent_space = tf.concat([y_flatten, z_flatten], 1)    \n",
    "\n",
    "prior_y = tfd.MultivariateNormalDiag(loc=tf.zeros_like(y_flatten), scale_diag=beta_ph * tf.ones_like(y_flatten))\n",
    "prior_z = tfd.MultivariateNormalDiag(loc=tf.zeros_like(z_flatten), scale_diag=beta_ph * tf.ones_like(z_flatten))\n",
    "\n",
    "log_prob_y =  prior_y.log_prob(y_flatten)\n",
    "log_prob_z =  prior_z.log_prob(z_flatten)"
   ]
  },
  {
   "cell_type": "code",
   "execution_count": 13,
   "metadata": {},
   "outputs": [
    {
     "data": {
      "text/plain": [
       "<tfp.distributions.MultivariateNormalDiag 'MultivariateNormalDiag_1/' batch_shape=(32,) event_shape=(504,) dtype=float32>"
      ]
     },
     "execution_count": 13,
     "metadata": {},
     "output_type": "execute_result"
    }
   ],
   "source": [
    "prior_z\n",
    "# The MLE loss\n",
    "with tf.variable_scope(\"logPx\"):\n",
    "    log_prob_X = log_prob_y + log_prob_z + logdet"
   ]
  },
  {
   "cell_type": "markdown",
   "metadata": {},
   "source": [
    "### The MLE loss"
   ]
  },
  {
   "cell_type": "code",
   "execution_count": 14,
   "metadata": {},
   "outputs": [],
   "source": [
    "loss = - tf.reduce_mean(log_prob_X)"
   ]
  },
  {
   "cell_type": "markdown",
   "metadata": {},
   "source": [
    "### The L2 regularization loss "
   ]
  },
  {
   "cell_type": "code",
   "execution_count": 15,
   "metadata": {},
   "outputs": [],
   "source": [
    "trainable_variables = tf.trainable_variables() \n",
    "l2_reg = 0.001 \n",
    "l2_loss = l2_reg * tf.add_n([ tf.nn.l2_loss(v) for v in trainable_variables])"
   ]
  },
  {
   "cell_type": "markdown",
   "metadata": {},
   "source": [
    "### Debug model, print variables "
   ]
  },
  {
   "cell_type": "code",
   "execution_count": 16,
   "metadata": {},
   "outputs": [
    {
     "name": "stdout",
     "output_type": "stream",
     "text": [
      "[   0][     4] ChainLayer/Scale1/ChainLayer/Step1/ChainLayer//ActnormLayer//ChainLayer//ActnormBiasLayer/bias\n",
      "[   1][     4] ChainLayer/Scale1/ChainLayer/Step1/ChainLayer//ActnormLayer//ChainLayer//ActnormScaleLayer/log_s\n",
      "[   2][    16] ChainLayer/Scale1/ChainLayer/Step1/ChainLayer//InvertibleConv1x1Layer/L_mat\n",
      "[   3][     4] ChainLayer/Scale1/ChainLayer/Step1/ChainLayer//InvertibleConv1x1Layer/log_S\n",
      "[   4][    16] ChainLayer/Scale1/ChainLayer/Step1/ChainLayer//InvertibleConv1x1Layer/U_mat\n",
      "[   5][   216] ChainLayer/Scale1/ChainLayer/Step1/ChainLayer//AffineCouplingLayer/Step1/ResnetBlock0/Conv/weigh\n",
      "[   6][    12] ChainLayer/Scale1/ChainLayer/Step1/ChainLayer//AffineCouplingLayer/Step1/ResnetBlock0/Conv/biase\n",
      "[   7][   144] ChainLayer/Scale1/ChainLayer/Step1/ChainLayer//AffineCouplingLayer/Step1/ResnetBlock0/Conv_1/wei\n",
      "[   8][    12] ChainLayer/Scale1/ChainLayer/Step1/ChainLayer//AffineCouplingLayer/Step1/ResnetBlock0/Conv_1/bia\n",
      "[   9][    24] ChainLayer/Scale1/ChainLayer/Step1/ChainLayer//AffineCouplingLayer/Step1/ResnetBlock0/Conv_2/wei\n",
      "[  10][    12] ChainLayer/Scale1/ChainLayer/Step1/ChainLayer//AffineCouplingLayer/Step1/ResnetBlock0/Conv_2/bia\n",
      "[  11][  1296] ChainLayer/Scale1/ChainLayer/Step1/ChainLayer//AffineCouplingLayer/Step1/ResnetBlock1/Conv/weigh\n",
      "[  12][    12] ChainLayer/Scale1/ChainLayer/Step1/ChainLayer//AffineCouplingLayer/Step1/ResnetBlock1/Conv/biase\n",
      "[  13][   144] ChainLayer/Scale1/ChainLayer/Step1/ChainLayer//AffineCouplingLayer/Step1/ResnetBlock1/Conv_1/wei\n",
      "[  14][    12] ChainLayer/Scale1/ChainLayer/Step1/ChainLayer//AffineCouplingLayer/Step1/ResnetBlock1/Conv_1/bia\n",
      "[  15][  1296] ChainLayer/Scale1/ChainLayer/Step1/ChainLayer//AffineCouplingLayer/Step1/ResnetBlock2/Conv/weigh\n",
      "[  16][    12] ChainLayer/Scale1/ChainLayer/Step1/ChainLayer//AffineCouplingLayer/Step1/ResnetBlock2/Conv/biase\n",
      "[  17][   144] ChainLayer/Scale1/ChainLayer/Step1/ChainLayer//AffineCouplingLayer/Step1/ResnetBlock2/Conv_1/wei\n",
      "[  18][    12] ChainLayer/Scale1/ChainLayer/Step1/ChainLayer//AffineCouplingLayer/Step1/ResnetBlock2/Conv_1/bia\n",
      "[  19][   432] ChainLayer/Scale1/ChainLayer/Step1/ChainLayer//AffineCouplingLayer/Step1/Conv/weights\n",
      "[  20][     4] ChainLayer/Scale1/ChainLayer/Step1/ChainLayer//AffineCouplingLayer/Step1/Conv/biases\n",
      "[  21][     4] ChainLayer/Scale1/ChainLayer/Step2/ChainLayer//ActnormLayer//ChainLayer//ActnormBiasLayer/bias\n",
      "[  22][     4] ChainLayer/Scale1/ChainLayer/Step2/ChainLayer//ActnormLayer//ChainLayer//ActnormScaleLayer/log_s\n",
      "[  23][    16] ChainLayer/Scale1/ChainLayer/Step2/ChainLayer//InvertibleConv1x1Layer/L_mat\n",
      "[  24][     4] ChainLayer/Scale1/ChainLayer/Step2/ChainLayer//InvertibleConv1x1Layer/log_S\n",
      "[  25][    16] ChainLayer/Scale1/ChainLayer/Step2/ChainLayer//InvertibleConv1x1Layer/U_mat\n",
      "[  26][   216] ChainLayer/Scale1/ChainLayer/Step2/ChainLayer//AffineCouplingLayer/Step2/ResnetBlock0/Conv/weigh\n",
      "[  27][    12] ChainLayer/Scale1/ChainLayer/Step2/ChainLayer//AffineCouplingLayer/Step2/ResnetBlock0/Conv/biase\n",
      "[  28][   144] ChainLayer/Scale1/ChainLayer/Step2/ChainLayer//AffineCouplingLayer/Step2/ResnetBlock0/Conv_1/wei\n",
      "[  29][    12] ChainLayer/Scale1/ChainLayer/Step2/ChainLayer//AffineCouplingLayer/Step2/ResnetBlock0/Conv_1/bia\n",
      "[  30][    24] ChainLayer/Scale1/ChainLayer/Step2/ChainLayer//AffineCouplingLayer/Step2/ResnetBlock0/Conv_2/wei\n",
      "[  31][    12] ChainLayer/Scale1/ChainLayer/Step2/ChainLayer//AffineCouplingLayer/Step2/ResnetBlock0/Conv_2/bia\n",
      "[  32][  1296] ChainLayer/Scale1/ChainLayer/Step2/ChainLayer//AffineCouplingLayer/Step2/ResnetBlock1/Conv/weigh\n",
      "[  33][    12] ChainLayer/Scale1/ChainLayer/Step2/ChainLayer//AffineCouplingLayer/Step2/ResnetBlock1/Conv/biase\n",
      "[  34][   144] ChainLayer/Scale1/ChainLayer/Step2/ChainLayer//AffineCouplingLayer/Step2/ResnetBlock1/Conv_1/wei\n",
      "[  35][    12] ChainLayer/Scale1/ChainLayer/Step2/ChainLayer//AffineCouplingLayer/Step2/ResnetBlock1/Conv_1/bia\n",
      "[  36][  1296] ChainLayer/Scale1/ChainLayer/Step2/ChainLayer//AffineCouplingLayer/Step2/ResnetBlock2/Conv/weigh\n",
      "[  37][    12] ChainLayer/Scale1/ChainLayer/Step2/ChainLayer//AffineCouplingLayer/Step2/ResnetBlock2/Conv/biase\n",
      "[  38][   144] ChainLayer/Scale1/ChainLayer/Step2/ChainLayer//AffineCouplingLayer/Step2/ResnetBlock2/Conv_1/wei\n",
      "[  39][    12] ChainLayer/Scale1/ChainLayer/Step2/ChainLayer//AffineCouplingLayer/Step2/ResnetBlock2/Conv_1/bia\n",
      "[  40][   432] ChainLayer/Scale1/ChainLayer/Step2/ChainLayer//AffineCouplingLayer/Step2/Conv/weights\n",
      "[  41][     4] ChainLayer/Scale1/ChainLayer/Step2/ChainLayer//AffineCouplingLayer/Step2/Conv/biases\n",
      "[  42][     4] ChainLayer/Scale1/ChainLayer/Step3/ChainLayer//ActnormLayer//ChainLayer//ActnormBiasLayer/bias\n",
      "[  43][     4] ChainLayer/Scale1/ChainLayer/Step3/ChainLayer//ActnormLayer//ChainLayer//ActnormScaleLayer/log_s\n",
      "[  44][    16] ChainLayer/Scale1/ChainLayer/Step3/ChainLayer//InvertibleConv1x1Layer/L_mat\n",
      "[  45][     4] ChainLayer/Scale1/ChainLayer/Step3/ChainLayer//InvertibleConv1x1Layer/log_S\n",
      "[  46][    16] ChainLayer/Scale1/ChainLayer/Step3/ChainLayer//InvertibleConv1x1Layer/U_mat\n",
      "[  47][   216] ChainLayer/Scale1/ChainLayer/Step3/ChainLayer//AffineCouplingLayer/Step3/ResnetBlock0/Conv/weigh\n",
      "[  48][    12] ChainLayer/Scale1/ChainLayer/Step3/ChainLayer//AffineCouplingLayer/Step3/ResnetBlock0/Conv/biase\n",
      "[  49][   144] ChainLayer/Scale1/ChainLayer/Step3/ChainLayer//AffineCouplingLayer/Step3/ResnetBlock0/Conv_1/wei\n",
      "[  50][    12] ChainLayer/Scale1/ChainLayer/Step3/ChainLayer//AffineCouplingLayer/Step3/ResnetBlock0/Conv_1/bia\n",
      "[  51][    24] ChainLayer/Scale1/ChainLayer/Step3/ChainLayer//AffineCouplingLayer/Step3/ResnetBlock0/Conv_2/wei\n",
      "[  52][    12] ChainLayer/Scale1/ChainLayer/Step3/ChainLayer//AffineCouplingLayer/Step3/ResnetBlock0/Conv_2/bia\n",
      "[  53][  1296] ChainLayer/Scale1/ChainLayer/Step3/ChainLayer//AffineCouplingLayer/Step3/ResnetBlock1/Conv/weigh\n",
      "[  54][    12] ChainLayer/Scale1/ChainLayer/Step3/ChainLayer//AffineCouplingLayer/Step3/ResnetBlock1/Conv/biase\n",
      "[  55][   144] ChainLayer/Scale1/ChainLayer/Step3/ChainLayer//AffineCouplingLayer/Step3/ResnetBlock1/Conv_1/wei\n",
      "[  56][    12] ChainLayer/Scale1/ChainLayer/Step3/ChainLayer//AffineCouplingLayer/Step3/ResnetBlock1/Conv_1/bia\n",
      "[  57][  1296] ChainLayer/Scale1/ChainLayer/Step3/ChainLayer//AffineCouplingLayer/Step3/ResnetBlock2/Conv/weigh\n",
      "[  58][    12] ChainLayer/Scale1/ChainLayer/Step3/ChainLayer//AffineCouplingLayer/Step3/ResnetBlock2/Conv/biase\n",
      "[  59][   144] ChainLayer/Scale1/ChainLayer/Step3/ChainLayer//AffineCouplingLayer/Step3/ResnetBlock2/Conv_1/wei\n",
      "[  60][    12] ChainLayer/Scale1/ChainLayer/Step3/ChainLayer//AffineCouplingLayer/Step3/ResnetBlock2/Conv_1/bia\n",
      "[  61][   432] ChainLayer/Scale1/ChainLayer/Step3/ChainLayer//AffineCouplingLayer/Step3/Conv/weights\n",
      "[  62][     4] ChainLayer/Scale1/ChainLayer/Step3/ChainLayer//AffineCouplingLayer/Step3/Conv/biases\n",
      "[  63][     4] ChainLayer/Scale1/ChainLayer/Step4/ChainLayer//ActnormLayer//ChainLayer//ActnormBiasLayer/bias\n",
      "[  64][     4] ChainLayer/Scale1/ChainLayer/Step4/ChainLayer//ActnormLayer//ChainLayer//ActnormScaleLayer/log_s\n",
      "[  65][    16] ChainLayer/Scale1/ChainLayer/Step4/ChainLayer//InvertibleConv1x1Layer/L_mat\n",
      "[  66][     4] ChainLayer/Scale1/ChainLayer/Step4/ChainLayer//InvertibleConv1x1Layer/log_S\n",
      "[  67][    16] ChainLayer/Scale1/ChainLayer/Step4/ChainLayer//InvertibleConv1x1Layer/U_mat\n",
      "[  68][   216] ChainLayer/Scale1/ChainLayer/Step4/ChainLayer//AffineCouplingLayer/Step4/ResnetBlock0/Conv/weigh\n",
      "[  69][    12] ChainLayer/Scale1/ChainLayer/Step4/ChainLayer//AffineCouplingLayer/Step4/ResnetBlock0/Conv/biase\n",
      "[  70][   144] ChainLayer/Scale1/ChainLayer/Step4/ChainLayer//AffineCouplingLayer/Step4/ResnetBlock0/Conv_1/wei\n",
      "[  71][    12] ChainLayer/Scale1/ChainLayer/Step4/ChainLayer//AffineCouplingLayer/Step4/ResnetBlock0/Conv_1/bia\n",
      "[  72][    24] ChainLayer/Scale1/ChainLayer/Step4/ChainLayer//AffineCouplingLayer/Step4/ResnetBlock0/Conv_2/wei\n",
      "[  73][    12] ChainLayer/Scale1/ChainLayer/Step4/ChainLayer//AffineCouplingLayer/Step4/ResnetBlock0/Conv_2/bia\n",
      "[  74][  1296] ChainLayer/Scale1/ChainLayer/Step4/ChainLayer//AffineCouplingLayer/Step4/ResnetBlock1/Conv/weigh\n",
      "[  75][    12] ChainLayer/Scale1/ChainLayer/Step4/ChainLayer//AffineCouplingLayer/Step4/ResnetBlock1/Conv/biase\n",
      "[  76][   144] ChainLayer/Scale1/ChainLayer/Step4/ChainLayer//AffineCouplingLayer/Step4/ResnetBlock1/Conv_1/wei\n",
      "[  77][    12] ChainLayer/Scale1/ChainLayer/Step4/ChainLayer//AffineCouplingLayer/Step4/ResnetBlock1/Conv_1/bia\n",
      "[  78][  1296] ChainLayer/Scale1/ChainLayer/Step4/ChainLayer//AffineCouplingLayer/Step4/ResnetBlock2/Conv/weigh\n",
      "[  79][    12] ChainLayer/Scale1/ChainLayer/Step4/ChainLayer//AffineCouplingLayer/Step4/ResnetBlock2/Conv/biase\n",
      "[  80][   144] ChainLayer/Scale1/ChainLayer/Step4/ChainLayer//AffineCouplingLayer/Step4/ResnetBlock2/Conv_1/wei\n",
      "[  81][    12] ChainLayer/Scale1/ChainLayer/Step4/ChainLayer//AffineCouplingLayer/Step4/ResnetBlock2/Conv_1/bia\n",
      "[  82][   432] ChainLayer/Scale1/ChainLayer/Step4/ChainLayer//AffineCouplingLayer/Step4/Conv/weights\n",
      "[  83][     4] ChainLayer/Scale1/ChainLayer/Step4/ChainLayer//AffineCouplingLayer/Step4/Conv/biases\n",
      "[  84][     4] ChainLayer/Scale1/ChainLayer/Step5/ChainLayer//ActnormLayer//ChainLayer//ActnormBiasLayer/bias\n",
      "[  85][     4] ChainLayer/Scale1/ChainLayer/Step5/ChainLayer//ActnormLayer//ChainLayer//ActnormScaleLayer/log_s\n",
      "[  86][    16] ChainLayer/Scale1/ChainLayer/Step5/ChainLayer//InvertibleConv1x1Layer/L_mat\n",
      "[  87][     4] ChainLayer/Scale1/ChainLayer/Step5/ChainLayer//InvertibleConv1x1Layer/log_S\n",
      "[  88][    16] ChainLayer/Scale1/ChainLayer/Step5/ChainLayer//InvertibleConv1x1Layer/U_mat\n",
      "[  89][   216] ChainLayer/Scale1/ChainLayer/Step5/ChainLayer//AffineCouplingLayer/Step5/ResnetBlock0/Conv/weigh\n",
      "[  90][    12] ChainLayer/Scale1/ChainLayer/Step5/ChainLayer//AffineCouplingLayer/Step5/ResnetBlock0/Conv/biase\n",
      "[  91][   144] ChainLayer/Scale1/ChainLayer/Step5/ChainLayer//AffineCouplingLayer/Step5/ResnetBlock0/Conv_1/wei\n",
      "[  92][    12] ChainLayer/Scale1/ChainLayer/Step5/ChainLayer//AffineCouplingLayer/Step5/ResnetBlock0/Conv_1/bia\n",
      "[  93][    24] ChainLayer/Scale1/ChainLayer/Step5/ChainLayer//AffineCouplingLayer/Step5/ResnetBlock0/Conv_2/wei\n",
      "[  94][    12] ChainLayer/Scale1/ChainLayer/Step5/ChainLayer//AffineCouplingLayer/Step5/ResnetBlock0/Conv_2/bia\n",
      "[  95][  1296] ChainLayer/Scale1/ChainLayer/Step5/ChainLayer//AffineCouplingLayer/Step5/ResnetBlock1/Conv/weigh\n",
      "[  96][    12] ChainLayer/Scale1/ChainLayer/Step5/ChainLayer//AffineCouplingLayer/Step5/ResnetBlock1/Conv/biase\n",
      "[  97][   144] ChainLayer/Scale1/ChainLayer/Step5/ChainLayer//AffineCouplingLayer/Step5/ResnetBlock1/Conv_1/wei\n",
      "[  98][    12] ChainLayer/Scale1/ChainLayer/Step5/ChainLayer//AffineCouplingLayer/Step5/ResnetBlock1/Conv_1/bia\n",
      "[  99][  1296] ChainLayer/Scale1/ChainLayer/Step5/ChainLayer//AffineCouplingLayer/Step5/ResnetBlock2/Conv/weigh\n",
      "[ 100][    12] ChainLayer/Scale1/ChainLayer/Step5/ChainLayer//AffineCouplingLayer/Step5/ResnetBlock2/Conv/biase\n",
      "[ 101][   144] ChainLayer/Scale1/ChainLayer/Step5/ChainLayer//AffineCouplingLayer/Step5/ResnetBlock2/Conv_1/wei\n",
      "[ 102][    12] ChainLayer/Scale1/ChainLayer/Step5/ChainLayer//AffineCouplingLayer/Step5/ResnetBlock2/Conv_1/bia\n",
      "[ 103][   432] ChainLayer/Scale1/ChainLayer/Step5/ChainLayer//AffineCouplingLayer/Step5/Conv/weights\n",
      "[ 104][     4] ChainLayer/Scale1/ChainLayer/Step5/ChainLayer//AffineCouplingLayer/Step5/Conv/biases\n",
      "[ 105][     8] ChainLayer/Scale2/ChainLayer/Step1/ChainLayer//ActnormLayer//ChainLayer//ActnormBiasLayer/bias\n",
      "[ 106][     8] ChainLayer/Scale2/ChainLayer/Step1/ChainLayer//ActnormLayer//ChainLayer//ActnormScaleLayer/log_s\n",
      "[ 107][    64] ChainLayer/Scale2/ChainLayer/Step1/ChainLayer//InvertibleConv1x1Layer/L_mat\n",
      "[ 108][     8] ChainLayer/Scale2/ChainLayer/Step1/ChainLayer//InvertibleConv1x1Layer/log_S\n",
      "[ 109][    64] ChainLayer/Scale2/ChainLayer/Step1/ChainLayer//InvertibleConv1x1Layer/U_mat\n",
      "[ 110][   864] ChainLayer/Scale2/ChainLayer/Step1/ChainLayer//AffineCouplingLayer/Step1/ResnetBlock0/Conv/weigh\n",
      "[ 111][    24] ChainLayer/Scale2/ChainLayer/Step1/ChainLayer//AffineCouplingLayer/Step1/ResnetBlock0/Conv/biase\n",
      "[ 112][   576] ChainLayer/Scale2/ChainLayer/Step1/ChainLayer//AffineCouplingLayer/Step1/ResnetBlock0/Conv_1/wei\n",
      "[ 113][    24] ChainLayer/Scale2/ChainLayer/Step1/ChainLayer//AffineCouplingLayer/Step1/ResnetBlock0/Conv_1/bia\n",
      "[ 114][    96] ChainLayer/Scale2/ChainLayer/Step1/ChainLayer//AffineCouplingLayer/Step1/ResnetBlock0/Conv_2/wei\n",
      "[ 115][    24] ChainLayer/Scale2/ChainLayer/Step1/ChainLayer//AffineCouplingLayer/Step1/ResnetBlock0/Conv_2/bia\n",
      "[ 116][  5184] ChainLayer/Scale2/ChainLayer/Step1/ChainLayer//AffineCouplingLayer/Step1/ResnetBlock1/Conv/weigh\n",
      "[ 117][    24] ChainLayer/Scale2/ChainLayer/Step1/ChainLayer//AffineCouplingLayer/Step1/ResnetBlock1/Conv/biase\n",
      "[ 118][   576] ChainLayer/Scale2/ChainLayer/Step1/ChainLayer//AffineCouplingLayer/Step1/ResnetBlock1/Conv_1/wei\n",
      "[ 119][    24] ChainLayer/Scale2/ChainLayer/Step1/ChainLayer//AffineCouplingLayer/Step1/ResnetBlock1/Conv_1/bia\n",
      "[ 120][  5184] ChainLayer/Scale2/ChainLayer/Step1/ChainLayer//AffineCouplingLayer/Step1/ResnetBlock2/Conv/weigh\n",
      "[ 121][    24] ChainLayer/Scale2/ChainLayer/Step1/ChainLayer//AffineCouplingLayer/Step1/ResnetBlock2/Conv/biase\n",
      "[ 122][   576] ChainLayer/Scale2/ChainLayer/Step1/ChainLayer//AffineCouplingLayer/Step1/ResnetBlock2/Conv_1/wei\n",
      "[ 123][    24] ChainLayer/Scale2/ChainLayer/Step1/ChainLayer//AffineCouplingLayer/Step1/ResnetBlock2/Conv_1/bia\n",
      "[ 124][  1728] ChainLayer/Scale2/ChainLayer/Step1/ChainLayer//AffineCouplingLayer/Step1/Conv/weights\n",
      "[ 125][     8] ChainLayer/Scale2/ChainLayer/Step1/ChainLayer//AffineCouplingLayer/Step1/Conv/biases\n",
      "[ 126][     8] ChainLayer/Scale2/ChainLayer/Step2/ChainLayer//ActnormLayer//ChainLayer//ActnormBiasLayer/bias\n",
      "[ 127][     8] ChainLayer/Scale2/ChainLayer/Step2/ChainLayer//ActnormLayer//ChainLayer//ActnormScaleLayer/log_s\n",
      "[ 128][    64] ChainLayer/Scale2/ChainLayer/Step2/ChainLayer//InvertibleConv1x1Layer/L_mat\n",
      "[ 129][     8] ChainLayer/Scale2/ChainLayer/Step2/ChainLayer//InvertibleConv1x1Layer/log_S\n",
      "[ 130][    64] ChainLayer/Scale2/ChainLayer/Step2/ChainLayer//InvertibleConv1x1Layer/U_mat\n",
      "[ 131][   864] ChainLayer/Scale2/ChainLayer/Step2/ChainLayer//AffineCouplingLayer/Step2/ResnetBlock0/Conv/weigh\n",
      "[ 132][    24] ChainLayer/Scale2/ChainLayer/Step2/ChainLayer//AffineCouplingLayer/Step2/ResnetBlock0/Conv/biase\n",
      "[ 133][   576] ChainLayer/Scale2/ChainLayer/Step2/ChainLayer//AffineCouplingLayer/Step2/ResnetBlock0/Conv_1/wei\n",
      "[ 134][    24] ChainLayer/Scale2/ChainLayer/Step2/ChainLayer//AffineCouplingLayer/Step2/ResnetBlock0/Conv_1/bia\n",
      "[ 135][    96] ChainLayer/Scale2/ChainLayer/Step2/ChainLayer//AffineCouplingLayer/Step2/ResnetBlock0/Conv_2/wei\n",
      "[ 136][    24] ChainLayer/Scale2/ChainLayer/Step2/ChainLayer//AffineCouplingLayer/Step2/ResnetBlock0/Conv_2/bia\n",
      "[ 137][  5184] ChainLayer/Scale2/ChainLayer/Step2/ChainLayer//AffineCouplingLayer/Step2/ResnetBlock1/Conv/weigh\n",
      "[ 138][    24] ChainLayer/Scale2/ChainLayer/Step2/ChainLayer//AffineCouplingLayer/Step2/ResnetBlock1/Conv/biase\n",
      "[ 139][   576] ChainLayer/Scale2/ChainLayer/Step2/ChainLayer//AffineCouplingLayer/Step2/ResnetBlock1/Conv_1/wei\n",
      "[ 140][    24] ChainLayer/Scale2/ChainLayer/Step2/ChainLayer//AffineCouplingLayer/Step2/ResnetBlock1/Conv_1/bia\n",
      "[ 141][  5184] ChainLayer/Scale2/ChainLayer/Step2/ChainLayer//AffineCouplingLayer/Step2/ResnetBlock2/Conv/weigh\n",
      "[ 142][    24] ChainLayer/Scale2/ChainLayer/Step2/ChainLayer//AffineCouplingLayer/Step2/ResnetBlock2/Conv/biase\n",
      "[ 143][   576] ChainLayer/Scale2/ChainLayer/Step2/ChainLayer//AffineCouplingLayer/Step2/ResnetBlock2/Conv_1/wei\n",
      "[ 144][    24] ChainLayer/Scale2/ChainLayer/Step2/ChainLayer//AffineCouplingLayer/Step2/ResnetBlock2/Conv_1/bia\n",
      "[ 145][  1728] ChainLayer/Scale2/ChainLayer/Step2/ChainLayer//AffineCouplingLayer/Step2/Conv/weights\n",
      "[ 146][     8] ChainLayer/Scale2/ChainLayer/Step2/ChainLayer//AffineCouplingLayer/Step2/Conv/biases\n",
      "[ 147][     8] ChainLayer/Scale2/ChainLayer/Step3/ChainLayer//ActnormLayer//ChainLayer//ActnormBiasLayer/bias\n",
      "[ 148][     8] ChainLayer/Scale2/ChainLayer/Step3/ChainLayer//ActnormLayer//ChainLayer//ActnormScaleLayer/log_s\n",
      "[ 149][    64] ChainLayer/Scale2/ChainLayer/Step3/ChainLayer//InvertibleConv1x1Layer/L_mat\n",
      "[ 150][     8] ChainLayer/Scale2/ChainLayer/Step3/ChainLayer//InvertibleConv1x1Layer/log_S\n",
      "[ 151][    64] ChainLayer/Scale2/ChainLayer/Step3/ChainLayer//InvertibleConv1x1Layer/U_mat\n",
      "[ 152][   864] ChainLayer/Scale2/ChainLayer/Step3/ChainLayer//AffineCouplingLayer/Step3/ResnetBlock0/Conv/weigh\n",
      "[ 153][    24] ChainLayer/Scale2/ChainLayer/Step3/ChainLayer//AffineCouplingLayer/Step3/ResnetBlock0/Conv/biase\n",
      "[ 154][   576] ChainLayer/Scale2/ChainLayer/Step3/ChainLayer//AffineCouplingLayer/Step3/ResnetBlock0/Conv_1/wei\n",
      "[ 155][    24] ChainLayer/Scale2/ChainLayer/Step3/ChainLayer//AffineCouplingLayer/Step3/ResnetBlock0/Conv_1/bia\n",
      "[ 156][    96] ChainLayer/Scale2/ChainLayer/Step3/ChainLayer//AffineCouplingLayer/Step3/ResnetBlock0/Conv_2/wei\n",
      "[ 157][    24] ChainLayer/Scale2/ChainLayer/Step3/ChainLayer//AffineCouplingLayer/Step3/ResnetBlock0/Conv_2/bia\n",
      "[ 158][  5184] ChainLayer/Scale2/ChainLayer/Step3/ChainLayer//AffineCouplingLayer/Step3/ResnetBlock1/Conv/weigh\n",
      "[ 159][    24] ChainLayer/Scale2/ChainLayer/Step3/ChainLayer//AffineCouplingLayer/Step3/ResnetBlock1/Conv/biase\n",
      "[ 160][   576] ChainLayer/Scale2/ChainLayer/Step3/ChainLayer//AffineCouplingLayer/Step3/ResnetBlock1/Conv_1/wei\n",
      "[ 161][    24] ChainLayer/Scale2/ChainLayer/Step3/ChainLayer//AffineCouplingLayer/Step3/ResnetBlock1/Conv_1/bia\n",
      "[ 162][  5184] ChainLayer/Scale2/ChainLayer/Step3/ChainLayer//AffineCouplingLayer/Step3/ResnetBlock2/Conv/weigh\n",
      "[ 163][    24] ChainLayer/Scale2/ChainLayer/Step3/ChainLayer//AffineCouplingLayer/Step3/ResnetBlock2/Conv/biase\n",
      "[ 164][   576] ChainLayer/Scale2/ChainLayer/Step3/ChainLayer//AffineCouplingLayer/Step3/ResnetBlock2/Conv_1/wei\n",
      "[ 165][    24] ChainLayer/Scale2/ChainLayer/Step3/ChainLayer//AffineCouplingLayer/Step3/ResnetBlock2/Conv_1/bia\n",
      "[ 166][  1728] ChainLayer/Scale2/ChainLayer/Step3/ChainLayer//AffineCouplingLayer/Step3/Conv/weights\n",
      "[ 167][     8] ChainLayer/Scale2/ChainLayer/Step3/ChainLayer//AffineCouplingLayer/Step3/Conv/biases\n",
      "[ 168][     8] ChainLayer/Scale2/ChainLayer/Step4/ChainLayer//ActnormLayer//ChainLayer//ActnormBiasLayer/bias\n",
      "[ 169][     8] ChainLayer/Scale2/ChainLayer/Step4/ChainLayer//ActnormLayer//ChainLayer//ActnormScaleLayer/log_s\n",
      "[ 170][    64] ChainLayer/Scale2/ChainLayer/Step4/ChainLayer//InvertibleConv1x1Layer/L_mat\n",
      "[ 171][     8] ChainLayer/Scale2/ChainLayer/Step4/ChainLayer//InvertibleConv1x1Layer/log_S\n",
      "[ 172][    64] ChainLayer/Scale2/ChainLayer/Step4/ChainLayer//InvertibleConv1x1Layer/U_mat\n",
      "[ 173][   864] ChainLayer/Scale2/ChainLayer/Step4/ChainLayer//AffineCouplingLayer/Step4/ResnetBlock0/Conv/weigh\n",
      "[ 174][    24] ChainLayer/Scale2/ChainLayer/Step4/ChainLayer//AffineCouplingLayer/Step4/ResnetBlock0/Conv/biase\n",
      "[ 175][   576] ChainLayer/Scale2/ChainLayer/Step4/ChainLayer//AffineCouplingLayer/Step4/ResnetBlock0/Conv_1/wei\n",
      "[ 176][    24] ChainLayer/Scale2/ChainLayer/Step4/ChainLayer//AffineCouplingLayer/Step4/ResnetBlock0/Conv_1/bia\n",
      "[ 177][    96] ChainLayer/Scale2/ChainLayer/Step4/ChainLayer//AffineCouplingLayer/Step4/ResnetBlock0/Conv_2/wei\n",
      "[ 178][    24] ChainLayer/Scale2/ChainLayer/Step4/ChainLayer//AffineCouplingLayer/Step4/ResnetBlock0/Conv_2/bia\n",
      "[ 179][  5184] ChainLayer/Scale2/ChainLayer/Step4/ChainLayer//AffineCouplingLayer/Step4/ResnetBlock1/Conv/weigh\n",
      "[ 180][    24] ChainLayer/Scale2/ChainLayer/Step4/ChainLayer//AffineCouplingLayer/Step4/ResnetBlock1/Conv/biase\n",
      "[ 181][   576] ChainLayer/Scale2/ChainLayer/Step4/ChainLayer//AffineCouplingLayer/Step4/ResnetBlock1/Conv_1/wei\n",
      "[ 182][    24] ChainLayer/Scale2/ChainLayer/Step4/ChainLayer//AffineCouplingLayer/Step4/ResnetBlock1/Conv_1/bia\n",
      "[ 183][  5184] ChainLayer/Scale2/ChainLayer/Step4/ChainLayer//AffineCouplingLayer/Step4/ResnetBlock2/Conv/weigh\n",
      "[ 184][    24] ChainLayer/Scale2/ChainLayer/Step4/ChainLayer//AffineCouplingLayer/Step4/ResnetBlock2/Conv/biase\n",
      "[ 185][   576] ChainLayer/Scale2/ChainLayer/Step4/ChainLayer//AffineCouplingLayer/Step4/ResnetBlock2/Conv_1/wei\n",
      "[ 186][    24] ChainLayer/Scale2/ChainLayer/Step4/ChainLayer//AffineCouplingLayer/Step4/ResnetBlock2/Conv_1/bia\n",
      "[ 187][  1728] ChainLayer/Scale2/ChainLayer/Step4/ChainLayer//AffineCouplingLayer/Step4/Conv/weights\n",
      "[ 188][     8] ChainLayer/Scale2/ChainLayer/Step4/ChainLayer//AffineCouplingLayer/Step4/Conv/biases\n",
      "[ 189][     8] ChainLayer/Scale2/ChainLayer/Step5/ChainLayer//ActnormLayer//ChainLayer//ActnormBiasLayer/bias\n",
      "[ 190][     8] ChainLayer/Scale2/ChainLayer/Step5/ChainLayer//ActnormLayer//ChainLayer//ActnormScaleLayer/log_s\n",
      "[ 191][    64] ChainLayer/Scale2/ChainLayer/Step5/ChainLayer//InvertibleConv1x1Layer/L_mat\n",
      "[ 192][     8] ChainLayer/Scale2/ChainLayer/Step5/ChainLayer//InvertibleConv1x1Layer/log_S\n",
      "[ 193][    64] ChainLayer/Scale2/ChainLayer/Step5/ChainLayer//InvertibleConv1x1Layer/U_mat\n",
      "[ 194][   864] ChainLayer/Scale2/ChainLayer/Step5/ChainLayer//AffineCouplingLayer/Step5/ResnetBlock0/Conv/weigh\n",
      "[ 195][    24] ChainLayer/Scale2/ChainLayer/Step5/ChainLayer//AffineCouplingLayer/Step5/ResnetBlock0/Conv/biase\n",
      "[ 196][   576] ChainLayer/Scale2/ChainLayer/Step5/ChainLayer//AffineCouplingLayer/Step5/ResnetBlock0/Conv_1/wei\n",
      "[ 197][    24] ChainLayer/Scale2/ChainLayer/Step5/ChainLayer//AffineCouplingLayer/Step5/ResnetBlock0/Conv_1/bia\n",
      "[ 198][    96] ChainLayer/Scale2/ChainLayer/Step5/ChainLayer//AffineCouplingLayer/Step5/ResnetBlock0/Conv_2/wei\n",
      "[ 199][    24] ChainLayer/Scale2/ChainLayer/Step5/ChainLayer//AffineCouplingLayer/Step5/ResnetBlock0/Conv_2/bia\n",
      "[ 200][  5184] ChainLayer/Scale2/ChainLayer/Step5/ChainLayer//AffineCouplingLayer/Step5/ResnetBlock1/Conv/weigh\n",
      "[ 201][    24] ChainLayer/Scale2/ChainLayer/Step5/ChainLayer//AffineCouplingLayer/Step5/ResnetBlock1/Conv/biase\n",
      "[ 202][   576] ChainLayer/Scale2/ChainLayer/Step5/ChainLayer//AffineCouplingLayer/Step5/ResnetBlock1/Conv_1/wei\n",
      "[ 203][    24] ChainLayer/Scale2/ChainLayer/Step5/ChainLayer//AffineCouplingLayer/Step5/ResnetBlock1/Conv_1/bia\n",
      "[ 204][  5184] ChainLayer/Scale2/ChainLayer/Step5/ChainLayer//AffineCouplingLayer/Step5/ResnetBlock2/Conv/weigh\n",
      "[ 205][    24] ChainLayer/Scale2/ChainLayer/Step5/ChainLayer//AffineCouplingLayer/Step5/ResnetBlock2/Conv/biase\n",
      "[ 206][   576] ChainLayer/Scale2/ChainLayer/Step5/ChainLayer//AffineCouplingLayer/Step5/ResnetBlock2/Conv_1/wei\n",
      "[ 207][    24] ChainLayer/Scale2/ChainLayer/Step5/ChainLayer//AffineCouplingLayer/Step5/ResnetBlock2/Conv_1/bia\n",
      "[ 208][  1728] ChainLayer/Scale2/ChainLayer/Step5/ChainLayer//AffineCouplingLayer/Step5/Conv/weights\n",
      "[ 209][     8] ChainLayer/Scale2/ChainLayer/Step5/ChainLayer//AffineCouplingLayer/Step5/Conv/biases\n",
      "[ 210][    16] ChainLayer/Scale3/ChainLayer/Step1/ChainLayer//ActnormLayer//ChainLayer//ActnormBiasLayer/bias\n",
      "[ 211][    16] ChainLayer/Scale3/ChainLayer/Step1/ChainLayer//ActnormLayer//ChainLayer//ActnormScaleLayer/log_s\n",
      "[ 212][   256] ChainLayer/Scale3/ChainLayer/Step1/ChainLayer//InvertibleConv1x1Layer/L_mat\n",
      "[ 213][    16] ChainLayer/Scale3/ChainLayer/Step1/ChainLayer//InvertibleConv1x1Layer/log_S\n",
      "[ 214][   256] ChainLayer/Scale3/ChainLayer/Step1/ChainLayer//InvertibleConv1x1Layer/U_mat\n",
      "[ 215][  3456] ChainLayer/Scale3/ChainLayer/Step1/ChainLayer//AffineCouplingLayer/Step1/ResnetBlock0/Conv/weigh\n",
      "[ 216][    48] ChainLayer/Scale3/ChainLayer/Step1/ChainLayer//AffineCouplingLayer/Step1/ResnetBlock0/Conv/biase\n",
      "[ 217][  2304] ChainLayer/Scale3/ChainLayer/Step1/ChainLayer//AffineCouplingLayer/Step1/ResnetBlock0/Conv_1/wei\n",
      "[ 218][    48] ChainLayer/Scale3/ChainLayer/Step1/ChainLayer//AffineCouplingLayer/Step1/ResnetBlock0/Conv_1/bia\n",
      "[ 219][   384] ChainLayer/Scale3/ChainLayer/Step1/ChainLayer//AffineCouplingLayer/Step1/ResnetBlock0/Conv_2/wei\n",
      "[ 220][    48] ChainLayer/Scale3/ChainLayer/Step1/ChainLayer//AffineCouplingLayer/Step1/ResnetBlock0/Conv_2/bia\n",
      "[ 221][ 20736] ChainLayer/Scale3/ChainLayer/Step1/ChainLayer//AffineCouplingLayer/Step1/ResnetBlock1/Conv/weigh\n",
      "[ 222][    48] ChainLayer/Scale3/ChainLayer/Step1/ChainLayer//AffineCouplingLayer/Step1/ResnetBlock1/Conv/biase\n",
      "[ 223][  2304] ChainLayer/Scale3/ChainLayer/Step1/ChainLayer//AffineCouplingLayer/Step1/ResnetBlock1/Conv_1/wei\n",
      "[ 224][    48] ChainLayer/Scale3/ChainLayer/Step1/ChainLayer//AffineCouplingLayer/Step1/ResnetBlock1/Conv_1/bia\n",
      "[ 225][ 20736] ChainLayer/Scale3/ChainLayer/Step1/ChainLayer//AffineCouplingLayer/Step1/ResnetBlock2/Conv/weigh\n",
      "[ 226][    48] ChainLayer/Scale3/ChainLayer/Step1/ChainLayer//AffineCouplingLayer/Step1/ResnetBlock2/Conv/biase\n",
      "[ 227][  2304] ChainLayer/Scale3/ChainLayer/Step1/ChainLayer//AffineCouplingLayer/Step1/ResnetBlock2/Conv_1/wei\n",
      "[ 228][    48] ChainLayer/Scale3/ChainLayer/Step1/ChainLayer//AffineCouplingLayer/Step1/ResnetBlock2/Conv_1/bia\n",
      "[ 229][  6912] ChainLayer/Scale3/ChainLayer/Step1/ChainLayer//AffineCouplingLayer/Step1/Conv/weights\n",
      "[ 230][    16] ChainLayer/Scale3/ChainLayer/Step1/ChainLayer//AffineCouplingLayer/Step1/Conv/biases\n",
      "[ 231][    16] ChainLayer/Scale3/ChainLayer/Step2/ChainLayer//ActnormLayer//ChainLayer//ActnormBiasLayer/bias\n",
      "[ 232][    16] ChainLayer/Scale3/ChainLayer/Step2/ChainLayer//ActnormLayer//ChainLayer//ActnormScaleLayer/log_s\n",
      "[ 233][   256] ChainLayer/Scale3/ChainLayer/Step2/ChainLayer//InvertibleConv1x1Layer/L_mat\n",
      "[ 234][    16] ChainLayer/Scale3/ChainLayer/Step2/ChainLayer//InvertibleConv1x1Layer/log_S\n",
      "[ 235][   256] ChainLayer/Scale3/ChainLayer/Step2/ChainLayer//InvertibleConv1x1Layer/U_mat\n",
      "[ 236][  3456] ChainLayer/Scale3/ChainLayer/Step2/ChainLayer//AffineCouplingLayer/Step2/ResnetBlock0/Conv/weigh\n",
      "[ 237][    48] ChainLayer/Scale3/ChainLayer/Step2/ChainLayer//AffineCouplingLayer/Step2/ResnetBlock0/Conv/biase\n",
      "[ 238][  2304] ChainLayer/Scale3/ChainLayer/Step2/ChainLayer//AffineCouplingLayer/Step2/ResnetBlock0/Conv_1/wei\n",
      "[ 239][    48] ChainLayer/Scale3/ChainLayer/Step2/ChainLayer//AffineCouplingLayer/Step2/ResnetBlock0/Conv_1/bia\n",
      "[ 240][   384] ChainLayer/Scale3/ChainLayer/Step2/ChainLayer//AffineCouplingLayer/Step2/ResnetBlock0/Conv_2/wei\n",
      "[ 241][    48] ChainLayer/Scale3/ChainLayer/Step2/ChainLayer//AffineCouplingLayer/Step2/ResnetBlock0/Conv_2/bia\n",
      "[ 242][ 20736] ChainLayer/Scale3/ChainLayer/Step2/ChainLayer//AffineCouplingLayer/Step2/ResnetBlock1/Conv/weigh\n",
      "[ 243][    48] ChainLayer/Scale3/ChainLayer/Step2/ChainLayer//AffineCouplingLayer/Step2/ResnetBlock1/Conv/biase\n",
      "[ 244][  2304] ChainLayer/Scale3/ChainLayer/Step2/ChainLayer//AffineCouplingLayer/Step2/ResnetBlock1/Conv_1/wei\n",
      "[ 245][    48] ChainLayer/Scale3/ChainLayer/Step2/ChainLayer//AffineCouplingLayer/Step2/ResnetBlock1/Conv_1/bia\n",
      "[ 246][ 20736] ChainLayer/Scale3/ChainLayer/Step2/ChainLayer//AffineCouplingLayer/Step2/ResnetBlock2/Conv/weigh\n",
      "[ 247][    48] ChainLayer/Scale3/ChainLayer/Step2/ChainLayer//AffineCouplingLayer/Step2/ResnetBlock2/Conv/biase\n",
      "[ 248][  2304] ChainLayer/Scale3/ChainLayer/Step2/ChainLayer//AffineCouplingLayer/Step2/ResnetBlock2/Conv_1/wei\n",
      "[ 249][    48] ChainLayer/Scale3/ChainLayer/Step2/ChainLayer//AffineCouplingLayer/Step2/ResnetBlock2/Conv_1/bia\n",
      "[ 250][  6912] ChainLayer/Scale3/ChainLayer/Step2/ChainLayer//AffineCouplingLayer/Step2/Conv/weights\n",
      "[ 251][    16] ChainLayer/Scale3/ChainLayer/Step2/ChainLayer//AffineCouplingLayer/Step2/Conv/biases\n",
      "[ 252][    16] ChainLayer/Scale3/ChainLayer/Step3/ChainLayer//ActnormLayer//ChainLayer//ActnormBiasLayer/bias\n",
      "[ 253][    16] ChainLayer/Scale3/ChainLayer/Step3/ChainLayer//ActnormLayer//ChainLayer//ActnormScaleLayer/log_s\n",
      "[ 254][   256] ChainLayer/Scale3/ChainLayer/Step3/ChainLayer//InvertibleConv1x1Layer/L_mat\n",
      "[ 255][    16] ChainLayer/Scale3/ChainLayer/Step3/ChainLayer//InvertibleConv1x1Layer/log_S\n",
      "[ 256][   256] ChainLayer/Scale3/ChainLayer/Step3/ChainLayer//InvertibleConv1x1Layer/U_mat\n",
      "[ 257][  3456] ChainLayer/Scale3/ChainLayer/Step3/ChainLayer//AffineCouplingLayer/Step3/ResnetBlock0/Conv/weigh\n",
      "[ 258][    48] ChainLayer/Scale3/ChainLayer/Step3/ChainLayer//AffineCouplingLayer/Step3/ResnetBlock0/Conv/biase\n",
      "[ 259][  2304] ChainLayer/Scale3/ChainLayer/Step3/ChainLayer//AffineCouplingLayer/Step3/ResnetBlock0/Conv_1/wei\n",
      "[ 260][    48] ChainLayer/Scale3/ChainLayer/Step3/ChainLayer//AffineCouplingLayer/Step3/ResnetBlock0/Conv_1/bia\n",
      "[ 261][   384] ChainLayer/Scale3/ChainLayer/Step3/ChainLayer//AffineCouplingLayer/Step3/ResnetBlock0/Conv_2/wei\n",
      "[ 262][    48] ChainLayer/Scale3/ChainLayer/Step3/ChainLayer//AffineCouplingLayer/Step3/ResnetBlock0/Conv_2/bia\n",
      "[ 263][ 20736] ChainLayer/Scale3/ChainLayer/Step3/ChainLayer//AffineCouplingLayer/Step3/ResnetBlock1/Conv/weigh\n",
      "[ 264][    48] ChainLayer/Scale3/ChainLayer/Step3/ChainLayer//AffineCouplingLayer/Step3/ResnetBlock1/Conv/biase\n",
      "[ 265][  2304] ChainLayer/Scale3/ChainLayer/Step3/ChainLayer//AffineCouplingLayer/Step3/ResnetBlock1/Conv_1/wei\n",
      "[ 266][    48] ChainLayer/Scale3/ChainLayer/Step3/ChainLayer//AffineCouplingLayer/Step3/ResnetBlock1/Conv_1/bia\n",
      "[ 267][ 20736] ChainLayer/Scale3/ChainLayer/Step3/ChainLayer//AffineCouplingLayer/Step3/ResnetBlock2/Conv/weigh\n",
      "[ 268][    48] ChainLayer/Scale3/ChainLayer/Step3/ChainLayer//AffineCouplingLayer/Step3/ResnetBlock2/Conv/biase\n",
      "[ 269][  2304] ChainLayer/Scale3/ChainLayer/Step3/ChainLayer//AffineCouplingLayer/Step3/ResnetBlock2/Conv_1/wei\n",
      "[ 270][    48] ChainLayer/Scale3/ChainLayer/Step3/ChainLayer//AffineCouplingLayer/Step3/ResnetBlock2/Conv_1/bia\n",
      "[ 271][  6912] ChainLayer/Scale3/ChainLayer/Step3/ChainLayer//AffineCouplingLayer/Step3/Conv/weights\n",
      "[ 272][    16] ChainLayer/Scale3/ChainLayer/Step3/ChainLayer//AffineCouplingLayer/Step3/Conv/biases\n",
      "[ 273][    16] ChainLayer/Scale3/ChainLayer/Step4/ChainLayer//ActnormLayer//ChainLayer//ActnormBiasLayer/bias\n",
      "[ 274][    16] ChainLayer/Scale3/ChainLayer/Step4/ChainLayer//ActnormLayer//ChainLayer//ActnormScaleLayer/log_s\n",
      "[ 275][   256] ChainLayer/Scale3/ChainLayer/Step4/ChainLayer//InvertibleConv1x1Layer/L_mat\n",
      "[ 276][    16] ChainLayer/Scale3/ChainLayer/Step4/ChainLayer//InvertibleConv1x1Layer/log_S\n",
      "[ 277][   256] ChainLayer/Scale3/ChainLayer/Step4/ChainLayer//InvertibleConv1x1Layer/U_mat\n",
      "[ 278][  3456] ChainLayer/Scale3/ChainLayer/Step4/ChainLayer//AffineCouplingLayer/Step4/ResnetBlock0/Conv/weigh\n",
      "[ 279][    48] ChainLayer/Scale3/ChainLayer/Step4/ChainLayer//AffineCouplingLayer/Step4/ResnetBlock0/Conv/biase\n",
      "[ 280][  2304] ChainLayer/Scale3/ChainLayer/Step4/ChainLayer//AffineCouplingLayer/Step4/ResnetBlock0/Conv_1/wei\n",
      "[ 281][    48] ChainLayer/Scale3/ChainLayer/Step4/ChainLayer//AffineCouplingLayer/Step4/ResnetBlock0/Conv_1/bia\n",
      "[ 282][   384] ChainLayer/Scale3/ChainLayer/Step4/ChainLayer//AffineCouplingLayer/Step4/ResnetBlock0/Conv_2/wei\n",
      "[ 283][    48] ChainLayer/Scale3/ChainLayer/Step4/ChainLayer//AffineCouplingLayer/Step4/ResnetBlock0/Conv_2/bia\n",
      "[ 284][ 20736] ChainLayer/Scale3/ChainLayer/Step4/ChainLayer//AffineCouplingLayer/Step4/ResnetBlock1/Conv/weigh\n",
      "[ 285][    48] ChainLayer/Scale3/ChainLayer/Step4/ChainLayer//AffineCouplingLayer/Step4/ResnetBlock1/Conv/biase\n",
      "[ 286][  2304] ChainLayer/Scale3/ChainLayer/Step4/ChainLayer//AffineCouplingLayer/Step4/ResnetBlock1/Conv_1/wei\n",
      "[ 287][    48] ChainLayer/Scale3/ChainLayer/Step4/ChainLayer//AffineCouplingLayer/Step4/ResnetBlock1/Conv_1/bia\n",
      "[ 288][ 20736] ChainLayer/Scale3/ChainLayer/Step4/ChainLayer//AffineCouplingLayer/Step4/ResnetBlock2/Conv/weigh\n",
      "[ 289][    48] ChainLayer/Scale3/ChainLayer/Step4/ChainLayer//AffineCouplingLayer/Step4/ResnetBlock2/Conv/biase\n",
      "[ 290][  2304] ChainLayer/Scale3/ChainLayer/Step4/ChainLayer//AffineCouplingLayer/Step4/ResnetBlock2/Conv_1/wei\n",
      "[ 291][    48] ChainLayer/Scale3/ChainLayer/Step4/ChainLayer//AffineCouplingLayer/Step4/ResnetBlock2/Conv_1/bia\n",
      "[ 292][  6912] ChainLayer/Scale3/ChainLayer/Step4/ChainLayer//AffineCouplingLayer/Step4/Conv/weights\n",
      "[ 293][    16] ChainLayer/Scale3/ChainLayer/Step4/ChainLayer//AffineCouplingLayer/Step4/Conv/biases\n",
      "[ 294][    16] ChainLayer/Scale3/ChainLayer/Step5/ChainLayer//ActnormLayer//ChainLayer//ActnormBiasLayer/bias\n",
      "[ 295][    16] ChainLayer/Scale3/ChainLayer/Step5/ChainLayer//ActnormLayer//ChainLayer//ActnormScaleLayer/log_s\n",
      "[ 296][   256] ChainLayer/Scale3/ChainLayer/Step5/ChainLayer//InvertibleConv1x1Layer/L_mat\n",
      "[ 297][    16] ChainLayer/Scale3/ChainLayer/Step5/ChainLayer//InvertibleConv1x1Layer/log_S\n",
      "[ 298][   256] ChainLayer/Scale3/ChainLayer/Step5/ChainLayer//InvertibleConv1x1Layer/U_mat\n",
      "[ 299][  3456] ChainLayer/Scale3/ChainLayer/Step5/ChainLayer//AffineCouplingLayer/Step5/ResnetBlock0/Conv/weigh\n",
      "[ 300][    48] ChainLayer/Scale3/ChainLayer/Step5/ChainLayer//AffineCouplingLayer/Step5/ResnetBlock0/Conv/biase\n",
      "[ 301][  2304] ChainLayer/Scale3/ChainLayer/Step5/ChainLayer//AffineCouplingLayer/Step5/ResnetBlock0/Conv_1/wei\n",
      "[ 302][    48] ChainLayer/Scale3/ChainLayer/Step5/ChainLayer//AffineCouplingLayer/Step5/ResnetBlock0/Conv_1/bia\n",
      "[ 303][   384] ChainLayer/Scale3/ChainLayer/Step5/ChainLayer//AffineCouplingLayer/Step5/ResnetBlock0/Conv_2/wei\n",
      "[ 304][    48] ChainLayer/Scale3/ChainLayer/Step5/ChainLayer//AffineCouplingLayer/Step5/ResnetBlock0/Conv_2/bia\n",
      "[ 305][ 20736] ChainLayer/Scale3/ChainLayer/Step5/ChainLayer//AffineCouplingLayer/Step5/ResnetBlock1/Conv/weigh\n",
      "[ 306][    48] ChainLayer/Scale3/ChainLayer/Step5/ChainLayer//AffineCouplingLayer/Step5/ResnetBlock1/Conv/biase\n",
      "[ 307][  2304] ChainLayer/Scale3/ChainLayer/Step5/ChainLayer//AffineCouplingLayer/Step5/ResnetBlock1/Conv_1/wei\n",
      "[ 308][    48] ChainLayer/Scale3/ChainLayer/Step5/ChainLayer//AffineCouplingLayer/Step5/ResnetBlock1/Conv_1/bia\n",
      "[ 309][ 20736] ChainLayer/Scale3/ChainLayer/Step5/ChainLayer//AffineCouplingLayer/Step5/ResnetBlock2/Conv/weigh\n",
      "[ 310][    48] ChainLayer/Scale3/ChainLayer/Step5/ChainLayer//AffineCouplingLayer/Step5/ResnetBlock2/Conv/biase\n",
      "[ 311][  2304] ChainLayer/Scale3/ChainLayer/Step5/ChainLayer//AffineCouplingLayer/Step5/ResnetBlock2/Conv_1/wei\n",
      "[ 312][    48] ChainLayer/Scale3/ChainLayer/Step5/ChainLayer//AffineCouplingLayer/Step5/ResnetBlock2/Conv_1/bia\n",
      "[ 313][  6912] ChainLayer/Scale3/ChainLayer/Step5/ChainLayer//AffineCouplingLayer/Step5/Conv/weights\n",
      "[ 314][    16] ChainLayer/Scale3/ChainLayer/Step5/ChainLayer//AffineCouplingLayer/Step5/Conv/biases\n",
      "total_params: 394940\n"
     ]
    }
   ],
   "source": [
    "total_params = 0\n",
    "for k, v in enumerate(trainable_variables):\n",
    "    num_params = np.prod(v.shape.as_list())\n",
    "    total_params += num_params\n",
    "    print(f\"[{k:4}][{num_params:6}] {v.op.name[:96]}\")\n",
    "\n",
    "print(f\"total_params: {total_params}\")"
   ]
  },
  {
   "cell_type": "markdown",
   "metadata": {},
   "source": [
    "### Total loss -logp(x) + l2_loss"
   ]
  },
  {
   "cell_type": "code",
   "execution_count": 17,
   "metadata": {},
   "outputs": [],
   "source": [
    "sess.run(tf.global_variables_initializer())"
   ]
  },
  {
   "cell_type": "code",
   "execution_count": 18,
   "metadata": {},
   "outputs": [],
   "source": [
    "total_loss = l2_loss + loss"
   ]
  },
  {
   "cell_type": "code",
   "execution_count": 19,
   "metadata": {},
   "outputs": [
    {
     "data": {
      "text/plain": [
       "(1.4171416, 589.2454)"
      ]
     },
     "execution_count": 19,
     "metadata": {},
     "output_type": "execute_result"
    }
   ],
   "source": [
    "imbatch = sess.run(x_train_samples)\n",
    "l2_loss.eval(feed_dict={beta_ph: 1.0, images: imbatch}), loss.eval(feed_dict={beta_ph: 1.0, images: imbatch})"
   ]
  },
  {
   "cell_type": "markdown",
   "metadata": {},
   "source": [
    "## Create backward flow to generate samples"
   ]
  },
  {
   "cell_type": "code",
   "execution_count": 20,
   "metadata": {},
   "outputs": [],
   "source": [
    "sample_y_flatten = prior_y.sample()\n",
    "sample_y = tf.reshape(sample_y_flatten, y.shape.as_list())\n",
    "sample_z = tf.reshape(prior_z.sample(), z.shape.as_list())\n",
    "sampled_logdet = prior_y.log_prob(sample_y_flatten)"
   ]
  },
  {
   "cell_type": "code",
   "execution_count": 21,
   "metadata": {},
   "outputs": [
    {
     "name": "stdout",
     "output_type": "stream",
     "text": [
      "FactorOutLayer/Backward/Scale3          : y=[32, 3, 3, 16]\tz=[32, 3, 3, 48]\tlogdet=[32]\n",
      "AffineCouplingLayer/Backward/           : y=[32, 3, 3, 16]\tz=[32, 3, 3, 48]\tlogdet=[32]\n",
      "InvertibleConv1x1Layer/Backward/        : y=[32, 3, 3, 16]\tz=[32, 3, 3, 48]\tlogdet=[32]\n",
      "ActnormScaleLayer/Backward/             : y=[32, 3, 3, 16]\tz=[32, 3, 3, 48]\tlogdet=[32]\n",
      "ActnormBiasLayer/Backward/              : y=[32, 3, 3, 16]\tz=[32, 3, 3, 48]\tlogdet=[32]\n",
      "ChainLayer/Backward/                    : y=[32, 3, 3, 16]\tz=[32, 3, 3, 48]\tlogdet=[32]\n",
      "ActnormLayer/Backward/                  : y=[32, 3, 3, 16]\tz=[32, 3, 3, 48]\tlogdet=[32]\n",
      "ChainLayer/Backward/Step5               : y=[32, 3, 3, 16]\tz=[32, 3, 3, 48]\tlogdet=[32]\n",
      "AffineCouplingLayer/Backward/           : y=[32, 3, 3, 16]\tz=[32, 3, 3, 48]\tlogdet=[32]\n",
      "InvertibleConv1x1Layer/Backward/        : y=[32, 3, 3, 16]\tz=[32, 3, 3, 48]\tlogdet=[32]\n",
      "ActnormScaleLayer/Backward/             : y=[32, 3, 3, 16]\tz=[32, 3, 3, 48]\tlogdet=[32]\n",
      "ActnormBiasLayer/Backward/              : y=[32, 3, 3, 16]\tz=[32, 3, 3, 48]\tlogdet=[32]\n",
      "ChainLayer/Backward/                    : y=[32, 3, 3, 16]\tz=[32, 3, 3, 48]\tlogdet=[32]\n",
      "ActnormLayer/Backward/                  : y=[32, 3, 3, 16]\tz=[32, 3, 3, 48]\tlogdet=[32]\n",
      "ChainLayer/Backward/Step4               : y=[32, 3, 3, 16]\tz=[32, 3, 3, 48]\tlogdet=[32]\n",
      "AffineCouplingLayer/Backward/           : y=[32, 3, 3, 16]\tz=[32, 3, 3, 48]\tlogdet=[32]\n",
      "InvertibleConv1x1Layer/Backward/        : y=[32, 3, 3, 16]\tz=[32, 3, 3, 48]\tlogdet=[32]\n",
      "ActnormScaleLayer/Backward/             : y=[32, 3, 3, 16]\tz=[32, 3, 3, 48]\tlogdet=[32]\n",
      "ActnormBiasLayer/Backward/              : y=[32, 3, 3, 16]\tz=[32, 3, 3, 48]\tlogdet=[32]\n",
      "ChainLayer/Backward/                    : y=[32, 3, 3, 16]\tz=[32, 3, 3, 48]\tlogdet=[32]\n",
      "ActnormLayer/Backward/                  : y=[32, 3, 3, 16]\tz=[32, 3, 3, 48]\tlogdet=[32]\n",
      "ChainLayer/Backward/Step3               : y=[32, 3, 3, 16]\tz=[32, 3, 3, 48]\tlogdet=[32]\n",
      "AffineCouplingLayer/Backward/           : y=[32, 3, 3, 16]\tz=[32, 3, 3, 48]\tlogdet=[32]\n",
      "InvertibleConv1x1Layer/Backward/        : y=[32, 3, 3, 16]\tz=[32, 3, 3, 48]\tlogdet=[32]\n",
      "ActnormScaleLayer/Backward/             : y=[32, 3, 3, 16]\tz=[32, 3, 3, 48]\tlogdet=[32]\n",
      "ActnormBiasLayer/Backward/              : y=[32, 3, 3, 16]\tz=[32, 3, 3, 48]\tlogdet=[32]\n",
      "ChainLayer/Backward/                    : y=[32, 3, 3, 16]\tz=[32, 3, 3, 48]\tlogdet=[32]\n",
      "ActnormLayer/Backward/                  : y=[32, 3, 3, 16]\tz=[32, 3, 3, 48]\tlogdet=[32]\n",
      "ChainLayer/Backward/Step2               : y=[32, 3, 3, 16]\tz=[32, 3, 3, 48]\tlogdet=[32]\n",
      "AffineCouplingLayer/Backward/           : y=[32, 3, 3, 16]\tz=[32, 3, 3, 48]\tlogdet=[32]\n",
      "InvertibleConv1x1Layer/Backward/        : y=[32, 3, 3, 16]\tz=[32, 3, 3, 48]\tlogdet=[32]\n",
      "ActnormScaleLayer/Backward/             : y=[32, 3, 3, 16]\tz=[32, 3, 3, 48]\tlogdet=[32]\n",
      "ActnormBiasLayer/Backward/              : y=[32, 3, 3, 16]\tz=[32, 3, 3, 48]\tlogdet=[32]\n",
      "ChainLayer/Backward/                    : y=[32, 3, 3, 16]\tz=[32, 3, 3, 48]\tlogdet=[32]\n",
      "ActnormLayer/Backward/                  : y=[32, 3, 3, 16]\tz=[32, 3, 3, 48]\tlogdet=[32]\n",
      "ChainLayer/Backward/Step1               : y=[32, 3, 3, 16]\tz=[32, 3, 3, 48]\tlogdet=[32]\n",
      "ChainLayer/Backward/Scale3              : y=[32, 3, 3, 16]\tz=[32, 3, 3, 48]\tlogdet=[32]\n",
      "WARNING:tensorflow:From /workspace/RealNVP-MNIST/notebooks/flow_layers.py:267: The name tf.depth_to_space is deprecated. Please use tf.compat.v1.depth_to_space instead.\n",
      "\n",
      "SqueezingLayer/Backward/Scale3          : y=[32, 6, 6, 4]\tz=[32, 6, 6, 12]\tlogdet=[32]\n",
      "FactorOutLayer/Backward/Scale2          : y=[32, 6, 6, 8]\tz=[32, 6, 6, 8]\tlogdet=[32]\n",
      "AffineCouplingLayer/Backward/           : y=[32, 6, 6, 8]\tz=[32, 6, 6, 8]\tlogdet=[32]\n",
      "InvertibleConv1x1Layer/Backward/        : y=[32, 6, 6, 8]\tz=[32, 6, 6, 8]\tlogdet=[32]\n",
      "ActnormScaleLayer/Backward/             : y=[32, 6, 6, 8]\tz=[32, 6, 6, 8]\tlogdet=[32]\n",
      "ActnormBiasLayer/Backward/              : y=[32, 6, 6, 8]\tz=[32, 6, 6, 8]\tlogdet=[32]\n",
      "ChainLayer/Backward/                    : y=[32, 6, 6, 8]\tz=[32, 6, 6, 8]\tlogdet=[32]\n",
      "ActnormLayer/Backward/                  : y=[32, 6, 6, 8]\tz=[32, 6, 6, 8]\tlogdet=[32]\n",
      "ChainLayer/Backward/Step5               : y=[32, 6, 6, 8]\tz=[32, 6, 6, 8]\tlogdet=[32]\n",
      "AffineCouplingLayer/Backward/           : y=[32, 6, 6, 8]\tz=[32, 6, 6, 8]\tlogdet=[32]\n",
      "InvertibleConv1x1Layer/Backward/        : y=[32, 6, 6, 8]\tz=[32, 6, 6, 8]\tlogdet=[32]\n",
      "ActnormScaleLayer/Backward/             : y=[32, 6, 6, 8]\tz=[32, 6, 6, 8]\tlogdet=[32]\n",
      "ActnormBiasLayer/Backward/              : y=[32, 6, 6, 8]\tz=[32, 6, 6, 8]\tlogdet=[32]\n",
      "ChainLayer/Backward/                    : y=[32, 6, 6, 8]\tz=[32, 6, 6, 8]\tlogdet=[32]\n",
      "ActnormLayer/Backward/                  : y=[32, 6, 6, 8]\tz=[32, 6, 6, 8]\tlogdet=[32]\n",
      "ChainLayer/Backward/Step4               : y=[32, 6, 6, 8]\tz=[32, 6, 6, 8]\tlogdet=[32]\n",
      "AffineCouplingLayer/Backward/           : y=[32, 6, 6, 8]\tz=[32, 6, 6, 8]\tlogdet=[32]\n",
      "InvertibleConv1x1Layer/Backward/        : y=[32, 6, 6, 8]\tz=[32, 6, 6, 8]\tlogdet=[32]\n",
      "ActnormScaleLayer/Backward/             : y=[32, 6, 6, 8]\tz=[32, 6, 6, 8]\tlogdet=[32]\n",
      "ActnormBiasLayer/Backward/              : y=[32, 6, 6, 8]\tz=[32, 6, 6, 8]\tlogdet=[32]\n",
      "ChainLayer/Backward/                    : y=[32, 6, 6, 8]\tz=[32, 6, 6, 8]\tlogdet=[32]\n",
      "ActnormLayer/Backward/                  : y=[32, 6, 6, 8]\tz=[32, 6, 6, 8]\tlogdet=[32]\n",
      "ChainLayer/Backward/Step3               : y=[32, 6, 6, 8]\tz=[32, 6, 6, 8]\tlogdet=[32]\n",
      "AffineCouplingLayer/Backward/           : y=[32, 6, 6, 8]\tz=[32, 6, 6, 8]\tlogdet=[32]\n",
      "InvertibleConv1x1Layer/Backward/        : y=[32, 6, 6, 8]\tz=[32, 6, 6, 8]\tlogdet=[32]\n",
      "ActnormScaleLayer/Backward/             : y=[32, 6, 6, 8]\tz=[32, 6, 6, 8]\tlogdet=[32]\n",
      "ActnormBiasLayer/Backward/              : y=[32, 6, 6, 8]\tz=[32, 6, 6, 8]\tlogdet=[32]\n",
      "ChainLayer/Backward/                    : y=[32, 6, 6, 8]\tz=[32, 6, 6, 8]\tlogdet=[32]\n",
      "ActnormLayer/Backward/                  : y=[32, 6, 6, 8]\tz=[32, 6, 6, 8]\tlogdet=[32]\n",
      "ChainLayer/Backward/Step2               : y=[32, 6, 6, 8]\tz=[32, 6, 6, 8]\tlogdet=[32]\n",
      "AffineCouplingLayer/Backward/           : y=[32, 6, 6, 8]\tz=[32, 6, 6, 8]\tlogdet=[32]\n",
      "InvertibleConv1x1Layer/Backward/        : y=[32, 6, 6, 8]\tz=[32, 6, 6, 8]\tlogdet=[32]\n",
      "ActnormScaleLayer/Backward/             : y=[32, 6, 6, 8]\tz=[32, 6, 6, 8]\tlogdet=[32]\n",
      "ActnormBiasLayer/Backward/              : y=[32, 6, 6, 8]\tz=[32, 6, 6, 8]\tlogdet=[32]\n",
      "ChainLayer/Backward/                    : y=[32, 6, 6, 8]\tz=[32, 6, 6, 8]\tlogdet=[32]\n",
      "ActnormLayer/Backward/                  : y=[32, 6, 6, 8]\tz=[32, 6, 6, 8]\tlogdet=[32]\n",
      "ChainLayer/Backward/Step1               : y=[32, 6, 6, 8]\tz=[32, 6, 6, 8]\tlogdet=[32]\n",
      "ChainLayer/Backward/Scale2              : y=[32, 6, 6, 8]\tz=[32, 6, 6, 8]\tlogdet=[32]\n",
      "SqueezingLayer/Backward/Scale2          : y=[32, 12, 12, 2]\tz=[32, 12, 12, 2]\tlogdet=[32]\n",
      "FactorOutLayer/Backward/Scale1          : y=[32, 12, 12, 4]\tz=[32, 12, 12, 0]\tlogdet=[32]\n",
      "AffineCouplingLayer/Backward/           : y=[32, 12, 12, 4]\tz=[32, 12, 12, 0]\tlogdet=[32]\n",
      "InvertibleConv1x1Layer/Backward/        : y=[32, 12, 12, 4]\tz=[32, 12, 12, 0]\tlogdet=[32]\n",
      "ActnormScaleLayer/Backward/             : y=[32, 12, 12, 4]\tz=[32, 12, 12, 0]\tlogdet=[32]\n",
      "ActnormBiasLayer/Backward/              : y=[32, 12, 12, 4]\tz=[32, 12, 12, 0]\tlogdet=[32]\n",
      "ChainLayer/Backward/                    : y=[32, 12, 12, 4]\tz=[32, 12, 12, 0]\tlogdet=[32]\n",
      "ActnormLayer/Backward/                  : y=[32, 12, 12, 4]\tz=[32, 12, 12, 0]\tlogdet=[32]\n",
      "ChainLayer/Backward/Step5               : y=[32, 12, 12, 4]\tz=[32, 12, 12, 0]\tlogdet=[32]\n",
      "AffineCouplingLayer/Backward/           : y=[32, 12, 12, 4]\tz=[32, 12, 12, 0]\tlogdet=[32]\n",
      "InvertibleConv1x1Layer/Backward/        : y=[32, 12, 12, 4]\tz=[32, 12, 12, 0]\tlogdet=[32]\n",
      "ActnormScaleLayer/Backward/             : y=[32, 12, 12, 4]\tz=[32, 12, 12, 0]\tlogdet=[32]\n",
      "ActnormBiasLayer/Backward/              : y=[32, 12, 12, 4]\tz=[32, 12, 12, 0]\tlogdet=[32]\n",
      "ChainLayer/Backward/                    : y=[32, 12, 12, 4]\tz=[32, 12, 12, 0]\tlogdet=[32]\n",
      "ActnormLayer/Backward/                  : y=[32, 12, 12, 4]\tz=[32, 12, 12, 0]\tlogdet=[32]\n",
      "ChainLayer/Backward/Step4               : y=[32, 12, 12, 4]\tz=[32, 12, 12, 0]\tlogdet=[32]\n",
      "AffineCouplingLayer/Backward/           : y=[32, 12, 12, 4]\tz=[32, 12, 12, 0]\tlogdet=[32]\n",
      "InvertibleConv1x1Layer/Backward/        : y=[32, 12, 12, 4]\tz=[32, 12, 12, 0]\tlogdet=[32]\n",
      "ActnormScaleLayer/Backward/             : y=[32, 12, 12, 4]\tz=[32, 12, 12, 0]\tlogdet=[32]\n",
      "ActnormBiasLayer/Backward/              : y=[32, 12, 12, 4]\tz=[32, 12, 12, 0]\tlogdet=[32]\n",
      "ChainLayer/Backward/                    : y=[32, 12, 12, 4]\tz=[32, 12, 12, 0]\tlogdet=[32]\n",
      "ActnormLayer/Backward/                  : y=[32, 12, 12, 4]\tz=[32, 12, 12, 0]\tlogdet=[32]\n",
      "ChainLayer/Backward/Step3               : y=[32, 12, 12, 4]\tz=[32, 12, 12, 0]\tlogdet=[32]\n"
     ]
    },
    {
     "name": "stdout",
     "output_type": "stream",
     "text": [
      "AffineCouplingLayer/Backward/           : y=[32, 12, 12, 4]\tz=[32, 12, 12, 0]\tlogdet=[32]\n",
      "InvertibleConv1x1Layer/Backward/        : y=[32, 12, 12, 4]\tz=[32, 12, 12, 0]\tlogdet=[32]\n",
      "ActnormScaleLayer/Backward/             : y=[32, 12, 12, 4]\tz=[32, 12, 12, 0]\tlogdet=[32]\n",
      "ActnormBiasLayer/Backward/              : y=[32, 12, 12, 4]\tz=[32, 12, 12, 0]\tlogdet=[32]\n",
      "ChainLayer/Backward/                    : y=[32, 12, 12, 4]\tz=[32, 12, 12, 0]\tlogdet=[32]\n",
      "ActnormLayer/Backward/                  : y=[32, 12, 12, 4]\tz=[32, 12, 12, 0]\tlogdet=[32]\n",
      "ChainLayer/Backward/Step2               : y=[32, 12, 12, 4]\tz=[32, 12, 12, 0]\tlogdet=[32]\n",
      "AffineCouplingLayer/Backward/           : y=[32, 12, 12, 4]\tz=[32, 12, 12, 0]\tlogdet=[32]\n",
      "InvertibleConv1x1Layer/Backward/        : y=[32, 12, 12, 4]\tz=[32, 12, 12, 0]\tlogdet=[32]\n",
      "ActnormScaleLayer/Backward/             : y=[32, 12, 12, 4]\tz=[32, 12, 12, 0]\tlogdet=[32]\n",
      "ActnormBiasLayer/Backward/              : y=[32, 12, 12, 4]\tz=[32, 12, 12, 0]\tlogdet=[32]\n",
      "ChainLayer/Backward/                    : y=[32, 12, 12, 4]\tz=[32, 12, 12, 0]\tlogdet=[32]\n",
      "ActnormLayer/Backward/                  : y=[32, 12, 12, 4]\tz=[32, 12, 12, 0]\tlogdet=[32]\n",
      "ChainLayer/Backward/Step1               : y=[32, 12, 12, 4]\tz=[32, 12, 12, 0]\tlogdet=[32]\n",
      "ChainLayer/Backward/Scale1              : y=[32, 12, 12, 4]\tz=[32, 12, 12, 0]\tlogdet=[32]\n",
      "SqueezingLayer/Backward/Scale1          : y=[32, 24, 24, 1]\tz=[32, 24, 24, 0]\tlogdet=[32]\n",
      "QuantizeImage/Backward/                 : y=[32, 24, 24, 1]\tz=[32, 24, 24, 0]\tlogdet=[32]\n",
      "ChainLayer/Backward/                    : y=[32, 24, 24, 1]\tz=[32, 24, 24, 0]\tlogdet=[32]\n"
     ]
    }
   ],
   "source": [
    "inverse_flow = sample_y, sampled_logdet, sample_z\n",
    "sampled_flow = model_flow(inverse_flow, forward=False)"
   ]
  },
  {
   "cell_type": "code",
   "execution_count": 22,
   "metadata": {},
   "outputs": [],
   "source": [
    "x_flow_sampled, _, _ = sampled_flow"
   ]
  },
  {
   "cell_type": "code",
   "execution_count": 23,
   "metadata": {},
   "outputs": [
    {
     "data": {
      "text/plain": [
       "(32, 24, 24, 1)"
      ]
     },
     "execution_count": 23,
     "metadata": {},
     "output_type": "execute_result"
    }
   ],
   "source": [
    "x_flow_sampled.eval({beta_ph: 1.0}).shape"
   ]
  },
  {
   "cell_type": "markdown",
   "metadata": {},
   "source": [
    "## Define optimizer and learning rate"
   ]
  },
  {
   "cell_type": "code",
   "execution_count": 24,
   "metadata": {},
   "outputs": [
    {
     "name": "stdout",
     "output_type": "stream",
     "text": [
      "WARNING:tensorflow:From /workspace/miniconda3/envs/realnvp/lib/python3.7/site-packages/tensorflow_core/python/ops/math_grad.py:1424: where (from tensorflow.python.ops.array_ops) is deprecated and will be removed in a future version.\n",
      "Instructions for updating:\n",
      "Use tf.where in 2.0, which has the same broadcast rule as np.where\n"
     ]
    }
   ],
   "source": [
    "lr_ph = tf.placeholder(tf.float32)\n",
    "\n",
    "optimizer = tf.train.AdamOptimizer(lr_ph)\n",
    "train_op = optimizer.minimize(total_loss)"
   ]
  },
  {
   "cell_type": "markdown",
   "metadata": {},
   "source": [
    "## Initialize Actnorms using DDI\n",
    "\n",
    "Initialize actnorms with data dependent initialization, check paper for more details."
   ]
  },
  {
   "cell_type": "code",
   "execution_count": 25,
   "metadata": {},
   "outputs": [
    {
     "name": "stderr",
     "output_type": "stream",
     "text": [
      "\r",
      "  0%|          | 0/15 [00:00<?, ?it/s]"
     ]
    },
    {
     "name": "stdout",
     "output_type": "stream",
     "text": [
      "WARNING:tensorflow:From /workspace/RealNVP-MNIST/notebooks/flow_layers.py:459: to_float (from tensorflow.python.ops.math_ops) is deprecated and will be removed in a future version.\n",
      "Instructions for updating:\n",
      "Use `tf.cast` instead.\n",
      "WARNING:tensorflow:From /workspace/RealNVP-MNIST/notebooks/flow_layers.py:461: The name tf.assign_add is deprecated. Please use tf.compat.v1.assign_add instead.\n",
      "\n",
      "WARNING:tensorflow:From /workspace/RealNVP-MNIST/notebooks/flow_layers.py:537: The name tf.assign is deprecated. Please use tf.compat.v1.assign instead.\n",
      "\n"
     ]
    },
    {
     "name": "stderr",
     "output_type": "stream",
     "text": [
      "100%|██████████| 15/15 [01:19<00:00,  5.27s/it]\n"
     ]
    }
   ],
   "source": [
    "sess.run(tf.global_variables_initializer())\n",
    "nets.initialize_actnorms(\n",
    "    sess, x_train_samples, images,\n",
    "    feed_dict_fn=lambda: {beta_ph: 1.0},\n",
    "    actnorm_layers=actnorm_layers,\n",
    "    num_steps=50,\n",
    ")"
   ]
  },
  {
   "cell_type": "markdown",
   "metadata": {},
   "source": [
    "## Train model, define metrics and trainer"
   ]
  },
  {
   "cell_type": "code",
   "execution_count": 26,
   "metadata": {},
   "outputs": [],
   "source": [
    "metrics = utils.Metrics(100, metrics_tensors={\"total_loss\": total_loss, \"loss\": loss, \"l2_loss\": l2_loss})\n",
    "plot_metrics_hook = utils.PlotMetricsHook(metrics, step=1000)"
   ]
  },
  {
   "cell_type": "code",
   "execution_count": 32,
   "metadata": {},
   "outputs": [
    {
     "data": {
      "text/plain": [
       "dtype('float32')"
      ]
     },
     "execution_count": 32,
     "metadata": {},
     "output_type": "execute_result"
    }
   ],
   "source": [
    "imbatch = sess.run(x_train_samples)"
   ]
  },
  {
   "cell_type": "code",
   "execution_count": 33,
   "metadata": {},
   "outputs": [],
   "source": [
    "sess.run(train_op, feed_dict={lr_ph: 0.0, beta_ph: 1.0, images: imbatch})"
   ]
  },
  {
   "cell_type": "code",
   "execution_count": 34,
   "metadata": {},
   "outputs": [
    {
     "data": {
      "text/plain": [
       "-125.12758"
      ]
     },
     "execution_count": 34,
     "metadata": {},
     "output_type": "execute_result"
    }
   ],
   "source": [
    "total_loss.eval(feed_dict={lr_ph: 0.0, beta_ph: 1.0, images: imbatch})"
   ]
  },
  {
   "cell_type": "markdown",
   "metadata": {},
   "source": [
    "### Initial samples from model"
   ]
  },
  {
   "cell_type": "code",
   "execution_count": 35,
   "metadata": {},
   "outputs": [
    {
     "data": {
      "image/png": "[encoded data removed]",
      "text/plain": [
       "<Figure size 288x288 with 16 Axes>"
      ]
     },
     "metadata": {},
     "output_type": "display_data"
    }
   ],
   "source": [
    "x_samples_np = x_flow_sampled.eval(feed_dict={lr_ph: 0.0, beta_ph: 1.0})\n",
    "utils.plot_4x4_grid(x_samples_np, shape=x_samples_np.shape[1:3])"
   ]
  },
  {
   "cell_type": "markdown",
   "metadata": {
    "collapsed": true
   },
   "source": [
    "### Train model with lr=0.005"
   ]
  },
  {
   "cell_type": "code",
   "execution_count": 36,
   "metadata": {
    "scrolled": true
   },
   "outputs": [
    {
     "name": "stderr",
     "output_type": "stream",
     "text": [
      "  1%|          | 100/10000 [00:34<13:25:46,  4.88s/it]"
     ]
    },
    {
     "name": "stdout",
     "output_type": "stream",
     "text": [
      "total_loss -1347.638\n",
      "loss -1349.0835\n",
      "l2_loss 1.4455992\n"
     ]
    },
    {
     "name": "stderr",
     "output_type": "stream",
     "text": [
      "  2%|▏         | 201/10000 [00:54<31:56,  5.11it/s]   "
     ]
    },
    {
     "name": "stdout",
     "output_type": "stream",
     "text": [
      "total_loss -1397.1929\n",
      "loss -1398.5891\n",
      "l2_loss 1.3962684\n"
     ]
    },
    {
     "name": "stderr",
     "output_type": "stream",
     "text": [
      "  3%|▎         | 301/10000 [01:14<31:46,  5.09it/s]"
     ]
    },
    {
     "name": "stdout",
     "output_type": "stream",
     "text": [
      "total_loss -1479.459\n",
      "loss -1480.8566\n",
      "l2_loss 1.3975909\n"
     ]
    },
    {
     "name": "stderr",
     "output_type": "stream",
     "text": [
      "  4%|▍         | 401/10000 [01:33<31:28,  5.08it/s]"
     ]
    },
    {
     "name": "stdout",
     "output_type": "stream",
     "text": [
      "total_loss -1466.1477\n",
      "loss -1467.5621\n",
      "l2_loss 1.4143795\n"
     ]
    },
    {
     "name": "stderr",
     "output_type": "stream",
     "text": [
      "  5%|▌         | 500/10000 [01:52<31:33,  5.02it/s]"
     ]
    },
    {
     "name": "stdout",
     "output_type": "stream",
     "text": [
      "total_loss -1475.9777\n",
      "loss -1477.4116\n",
      "l2_loss 1.4339838\n"
     ]
    },
    {
     "name": "stderr",
     "output_type": "stream",
     "text": [
      "  6%|▌         | 600/10000 [02:12<31:25,  4.99it/s]"
     ]
    },
    {
     "name": "stdout",
     "output_type": "stream",
     "text": [
      "total_loss -1523.3815\n",
      "loss -1524.8334\n",
      "l2_loss 1.4519261\n"
     ]
    },
    {
     "name": "stderr",
     "output_type": "stream",
     "text": [
      "  7%|▋         | 700/10000 [02:31<30:25,  5.10it/s]"
     ]
    },
    {
     "name": "stdout",
     "output_type": "stream",
     "text": [
      "total_loss -1518.5016\n",
      "loss -1519.971\n",
      "l2_loss 1.4694042\n"
     ]
    },
    {
     "name": "stderr",
     "output_type": "stream",
     "text": [
      "  8%|▊         | 801/10000 [02:51<29:05,  5.27it/s]"
     ]
    },
    {
     "name": "stdout",
     "output_type": "stream",
     "text": [
      "total_loss -1524.5703\n",
      "loss -1526.0627\n",
      "l2_loss 1.4924669\n"
     ]
    },
    {
     "name": "stderr",
     "output_type": "stream",
     "text": [
      "  9%|▉         | 901/10000 [03:11<29:06,  5.21it/s]"
     ]
    },
    {
     "name": "stdout",
     "output_type": "stream",
     "text": [
      "total_loss -1505.2155\n",
      "loss -1506.7273\n",
      "l2_loss 1.5118713\n"
     ]
    },
    {
     "name": "stderr",
     "output_type": "stream",
     "text": [
      " 10%|▉         | 999/10000 [03:30<28:49,  5.20it/s]"
     ]
    },
    {
     "name": "stdout",
     "output_type": "stream",
     "text": [
      "total_loss -1507.484\n",
      "loss -1509.017\n",
      "l2_loss 1.5329156\n"
     ]
    },
    {
     "data": {
      "image/png": "[encoded data removed]",
      "text/plain": [
       "<Figure size 1080x216 with 3 Axes>"
      ]
     },
     "metadata": {
      "needs_background": "light"
     },
     "output_type": "display_data"
    },
    {
     "name": "stderr",
     "output_type": "stream",
     "text": [
      " 11%|█         | 1101/10000 [03:50<29:31,  5.02it/s]"
     ]
    },
    {
     "name": "stdout",
     "output_type": "stream",
     "text": [
      "total_loss -1481.5272\n",
      "loss -1483.083\n",
      "l2_loss 1.5557469\n"
     ]
    },
    {
     "name": "stderr",
     "output_type": "stream",
     "text": [
      " 12%|█▏        | 1201/10000 [04:10<29:02,  5.05it/s]"
     ]
    },
    {
     "name": "stdout",
     "output_type": "stream",
     "text": [
      "total_loss -1541.037\n",
      "loss -1542.6162\n",
      "l2_loss 1.5792291\n"
     ]
    },
    {
     "name": "stderr",
     "output_type": "stream",
     "text": [
      " 13%|█▎        | 1301/10000 [04:30<28:50,  5.03it/s]"
     ]
    },
    {
     "name": "stdout",
     "output_type": "stream",
     "text": [
      "total_loss -1533.8303\n",
      "loss -1535.428\n",
      "l2_loss 1.5976543\n"
     ]
    },
    {
     "name": "stderr",
     "output_type": "stream",
     "text": [
      " 14%|█▍        | 1401/10000 [04:49<28:29,  5.03it/s]"
     ]
    },
    {
     "name": "stdout",
     "output_type": "stream",
     "text": [
      "total_loss -1528.076\n",
      "loss -1529.7014\n",
      "l2_loss 1.6253653\n"
     ]
    },
    {
     "name": "stderr",
     "output_type": "stream",
     "text": [
      " 15%|█▌        | 1501/10000 [05:09<28:17,  5.01it/s]"
     ]
    },
    {
     "name": "stdout",
     "output_type": "stream",
     "text": [
      "total_loss -1547.677\n",
      "loss -1549.3191\n",
      "l2_loss 1.6420724\n"
     ]
    },
    {
     "name": "stderr",
     "output_type": "stream",
     "text": [
      " 16%|█▌        | 1601/10000 [05:29<28:20,  4.94it/s]"
     ]
    },
    {
     "name": "stdout",
     "output_type": "stream",
     "text": [
      "total_loss -1555.657\n",
      "loss -1557.319\n",
      "l2_loss 1.6619548\n"
     ]
    },
    {
     "name": "stderr",
     "output_type": "stream",
     "text": [
      " 17%|█▋        | 1700/10000 [05:49<28:02,  4.93it/s]"
     ]
    },
    {
     "name": "stdout",
     "output_type": "stream",
     "text": [
      "total_loss -1540.8322\n",
      "loss -1542.5062\n",
      "l2_loss 1.6740307\n"
     ]
    },
    {
     "name": "stderr",
     "output_type": "stream",
     "text": [
      " 18%|█▊        | 1801/10000 [06:09<26:57,  5.07it/s]"
     ]
    },
    {
     "name": "stdout",
     "output_type": "stream",
     "text": [
      "total_loss -1539.0411\n",
      "loss -1540.7445\n",
      "l2_loss 1.7033367\n"
     ]
    },
    {
     "name": "stderr",
     "output_type": "stream",
     "text": [
      " 19%|█▉        | 1900/10000 [06:28<27:17,  4.95it/s]"
     ]
    },
    {
     "name": "stdout",
     "output_type": "stream",
     "text": [
      "total_loss -1541.1888\n",
      "loss -1542.9075\n",
      "l2_loss 1.7186425\n"
     ]
    },
    {
     "name": "stderr",
     "output_type": "stream",
     "text": [
      " 20%|█▉        | 1999/10000 [06:48<26:58,  4.94it/s]"
     ]
    },
    {
     "name": "stdout",
     "output_type": "stream",
     "text": [
      "total_loss -1540.2009\n",
      "loss -1541.9336\n",
      "l2_loss 1.7326798\n"
     ]
    },
    {
     "data": {
      "image/png": "[encoded data removed]",
      "text/plain": [
       "<Figure size 1080x216 with 3 Axes>"
      ]
     },
     "metadata": {
      "needs_background": "light"
     },
     "output_type": "display_data"
    },
    {
     "name": "stderr",
     "output_type": "stream",
     "text": [
      " 21%|██        | 2101/10000 [07:09<25:59,  5.06it/s]"
     ]
    },
    {
     "name": "stdout",
     "output_type": "stream",
     "text": [
      "total_loss -1551.1477\n",
      "loss -1552.9004\n",
      "l2_loss 1.7526556\n"
     ]
    },
    {
     "name": "stderr",
     "output_type": "stream",
     "text": [
      " 22%|██▏       | 2201/10000 [07:28<25:31,  5.09it/s]"
     ]
    },
    {
     "name": "stdout",
     "output_type": "stream",
     "text": [
      "total_loss -1546.0111\n",
      "loss -1547.781\n",
      "l2_loss 1.7698528\n"
     ]
    },
    {
     "name": "stderr",
     "output_type": "stream",
     "text": [
      " 23%|██▎       | 2301/10000 [07:48<24:37,  5.21it/s]"
     ]
    },
    {
     "name": "stdout",
     "output_type": "stream",
     "text": [
      "total_loss -1542.8608\n",
      "loss -1544.6431\n",
      "l2_loss 1.7821809\n"
     ]
    },
    {
     "name": "stderr",
     "output_type": "stream",
     "text": [
      " 24%|██▍       | 2401/10000 [08:08<24:24,  5.19it/s]"
     ]
    },
    {
     "name": "stdout",
     "output_type": "stream",
     "text": [
      "total_loss -1542.7212\n",
      "loss -1544.5216\n",
      "l2_loss 1.8004158\n"
     ]
    },
    {
     "name": "stderr",
     "output_type": "stream",
     "text": [
      " 25%|██▌       | 2500/10000 [08:27<25:54,  4.82it/s]"
     ]
    },
    {
     "name": "stdout",
     "output_type": "stream",
     "text": [
      "total_loss -1596.0643\n",
      "loss -1597.8838\n",
      "l2_loss 1.8194448\n"
     ]
    },
    {
     "name": "stderr",
     "output_type": "stream",
     "text": [
      " 26%|██▌       | 2601/10000 [08:48<24:17,  5.08it/s]"
     ]
    },
    {
     "name": "stdout",
     "output_type": "stream",
     "text": [
      "total_loss -1544.3597\n",
      "loss -1546.1938\n",
      "l2_loss 1.8341166\n"
     ]
    },
    {
     "name": "stderr",
     "output_type": "stream",
     "text": [
      " 27%|██▋       | 2701/10000 [09:07<24:23,  4.99it/s]"
     ]
    },
    {
     "name": "stdout",
     "output_type": "stream",
     "text": [
      "total_loss -1563.8992\n",
      "loss -1565.7406\n",
      "l2_loss 1.8414843\n"
     ]
    },
    {
     "name": "stderr",
     "output_type": "stream",
     "text": [
      " 28%|██▊       | 2801/10000 [09:27<23:45,  5.05it/s]"
     ]
    },
    {
     "name": "stdout",
     "output_type": "stream",
     "text": [
      "total_loss -1559.2365\n",
      "loss -1561.0964\n",
      "l2_loss 1.8599423\n"
     ]
    },
    {
     "name": "stderr",
     "output_type": "stream",
     "text": [
      " 29%|██▉       | 2900/10000 [09:47<23:55,  4.95it/s]"
     ]
    },
    {
     "name": "stdout",
     "output_type": "stream",
     "text": [
      "total_loss -1592.7181\n",
      "loss -1594.5913\n",
      "l2_loss 1.8731747\n"
     ]
    },
    {
     "name": "stderr",
     "output_type": "stream",
     "text": [
      " 30%|██▉       | 2999/10000 [10:07<23:33,  4.95it/s]"
     ]
    },
    {
     "name": "stdout",
     "output_type": "stream",
     "text": [
      "total_loss -1571.1868\n",
      "loss -1573.0793\n",
      "l2_loss 1.892548\n"
     ]
    },
    {
     "data": {
      "image/png": "[encoded data removed]",
      "text/plain": [
       "<Figure size 1080x216 with 3 Axes>"
      ]
     },
     "metadata": {
      "needs_background": "light"
     },
     "output_type": "display_data"
    },
    {
     "name": "stderr",
     "output_type": "stream",
     "text": [
      " 31%|███       | 3100/10000 [10:27<23:01,  4.99it/s]"
     ]
    },
    {
     "name": "stdout",
     "output_type": "stream",
     "text": [
      "total_loss -1572.0431\n",
      "loss -1573.9523\n",
      "l2_loss 1.9092093\n"
     ]
    },
    {
     "name": "stderr",
     "output_type": "stream",
     "text": [
      " 32%|███▏      | 3200/10000 [10:47<23:12,  4.88it/s]"
     ]
    },
    {
     "name": "stdout",
     "output_type": "stream",
     "text": [
      "total_loss -1529.0652\n",
      "loss -1530.992\n",
      "l2_loss 1.9267911\n"
     ]
    },
    {
     "name": "stderr",
     "output_type": "stream",
     "text": [
      " 33%|███▎      | 3300/10000 [11:07<22:21,  4.99it/s]"
     ]
    },
    {
     "name": "stdout",
     "output_type": "stream",
     "text": [
      "total_loss -1534.9998\n",
      "loss -1536.9436\n",
      "l2_loss 1.9438034\n"
     ]
    },
    {
     "name": "stderr",
     "output_type": "stream",
     "text": [
      " 34%|███▍      | 3401/10000 [11:27<21:48,  5.04it/s]"
     ]
    },
    {
     "name": "stdout",
     "output_type": "stream",
     "text": [
      "total_loss -1551.8956\n",
      "loss -1553.8584\n",
      "l2_loss 1.9628205\n"
     ]
    },
    {
     "name": "stderr",
     "output_type": "stream",
     "text": [
      " 35%|███▌      | 3500/10000 [11:47<22:15,  4.87it/s]"
     ]
    },
    {
     "name": "stdout",
     "output_type": "stream",
     "text": [
      "total_loss -1591.7501\n",
      "loss -1593.7251\n",
      "l2_loss 1.9749815\n"
     ]
    },
    {
     "name": "stderr",
     "output_type": "stream",
     "text": [
      " 36%|███▌      | 3601/10000 [12:07<21:01,  5.07it/s]"
     ]
    },
    {
     "name": "stdout",
     "output_type": "stream",
     "text": [
      "total_loss -1549.9626\n",
      "loss -1551.9418\n",
      "l2_loss 1.9790881\n"
     ]
    },
    {
     "name": "stderr",
     "output_type": "stream",
     "text": [
      " 37%|███▋      | 3701/10000 [12:27<20:47,  5.05it/s]"
     ]
    },
    {
     "name": "stdout",
     "output_type": "stream",
     "text": [
      "total_loss -1557.0717\n",
      "loss -1559.0671\n",
      "l2_loss 1.995499\n"
     ]
    },
    {
     "name": "stderr",
     "output_type": "stream",
     "text": [
      " 38%|███▊      | 3800/10000 [12:47<20:59,  4.92it/s]"
     ]
    },
    {
     "name": "stdout",
     "output_type": "stream",
     "text": [
      "total_loss -1583.6036\n",
      "loss -1585.617\n",
      "l2_loss 2.0132687\n"
     ]
    },
    {
     "name": "stderr",
     "output_type": "stream",
     "text": [
      " 39%|███▉      | 3901/10000 [13:07<20:23,  4.99it/s]"
     ]
    },
    {
     "name": "stdout",
     "output_type": "stream",
     "text": [
      "total_loss -1549.135\n",
      "loss -1551.158\n",
      "l2_loss 2.022926\n"
     ]
    },
    {
     "name": "stderr",
     "output_type": "stream",
     "text": [
      " 40%|███▉      | 3999/10000 [13:27<19:47,  5.05it/s]"
     ]
    },
    {
     "name": "stdout",
     "output_type": "stream",
     "text": [
      "total_loss -1547.5272\n",
      "loss -1549.5598\n",
      "l2_loss 2.0326195\n"
     ]
    },
    {
     "data": {
      "image/png": "[encoded data removed]",
      "text/plain": [
       "<Figure size 1080x216 with 3 Axes>"
      ]
     },
     "metadata": {
      "needs_background": "light"
     },
     "output_type": "display_data"
    },
    {
     "name": "stderr",
     "output_type": "stream",
     "text": [
      " 41%|████      | 4100/10000 [13:47<20:13,  4.86it/s]"
     ]
    },
    {
     "name": "stdout",
     "output_type": "stream",
     "text": [
      "total_loss -1586.4678\n",
      "loss -1588.5061\n",
      "l2_loss 2.0383842\n"
     ]
    },
    {
     "name": "stderr",
     "output_type": "stream",
     "text": [
      " 42%|████▏     | 4201/10000 [14:07<18:46,  5.15it/s]"
     ]
    },
    {
     "name": "stdout",
     "output_type": "stream",
     "text": [
      "total_loss -1573.6206\n",
      "loss -1575.6729\n",
      "l2_loss 2.0522015\n"
     ]
    },
    {
     "name": "stderr",
     "output_type": "stream",
     "text": [
      " 43%|████▎     | 4301/10000 [14:27<18:45,  5.06it/s]"
     ]
    },
    {
     "name": "stdout",
     "output_type": "stream",
     "text": [
      "total_loss -1604.907\n",
      "loss -1606.971\n",
      "l2_loss 2.0640075\n"
     ]
    },
    {
     "name": "stderr",
     "output_type": "stream",
     "text": [
      " 44%|████▍     | 4401/10000 [14:47<18:15,  5.11it/s]"
     ]
    },
    {
     "name": "stdout",
     "output_type": "stream",
     "text": [
      "total_loss -1582.7563\n",
      "loss -1584.831\n",
      "l2_loss 2.0747194\n"
     ]
    },
    {
     "name": "stderr",
     "output_type": "stream",
     "text": [
      " 45%|████▌     | 4501/10000 [15:07<18:15,  5.02it/s]"
     ]
    },
    {
     "name": "stdout",
     "output_type": "stream",
     "text": [
      "total_loss -1584.5779\n",
      "loss -1586.6609\n",
      "l2_loss 2.0829582\n"
     ]
    },
    {
     "name": "stderr",
     "output_type": "stream",
     "text": [
      " 46%|████▌     | 4601/10000 [15:27<17:41,  5.09it/s]"
     ]
    },
    {
     "name": "stdout",
     "output_type": "stream",
     "text": [
      "total_loss -1584.1694\n",
      "loss -1586.2592\n",
      "l2_loss 2.0897229\n"
     ]
    },
    {
     "name": "stderr",
     "output_type": "stream",
     "text": [
      " 47%|████▋     | 4701/10000 [15:47<17:38,  5.01it/s]"
     ]
    },
    {
     "name": "stdout",
     "output_type": "stream",
     "text": [
      "total_loss -1609.2715\n",
      "loss -1611.3677\n",
      "l2_loss 2.0962493\n"
     ]
    },
    {
     "name": "stderr",
     "output_type": "stream",
     "text": [
      " 48%|████▊     | 4800/10000 [16:07<17:40,  4.90it/s]"
     ]
    },
    {
     "name": "stdout",
     "output_type": "stream",
     "text": [
      "total_loss -1588.9258\n",
      "loss -1591.0266\n",
      "l2_loss 2.100886\n"
     ]
    },
    {
     "name": "stderr",
     "output_type": "stream",
     "text": [
      " 49%|████▉     | 4900/10000 [16:27<16:36,  5.12it/s]"
     ]
    },
    {
     "name": "stdout",
     "output_type": "stream",
     "text": [
      "total_loss -1559.5479\n",
      "loss -1561.6682\n",
      "l2_loss 2.1203778\n"
     ]
    },
    {
     "name": "stderr",
     "output_type": "stream",
     "text": [
      " 50%|████▉     | 4999/10000 [16:47<16:28,  5.06it/s]"
     ]
    },
    {
     "name": "stdout",
     "output_type": "stream",
     "text": [
      "total_loss -1574.895\n",
      "loss -1577.0233\n",
      "l2_loss 2.1282966\n"
     ]
    },
    {
     "data": {
      "image/png": "[encoded data removed]",
      "text/plain": [
       "<Figure size 1080x216 with 3 Axes>"
      ]
     },
     "metadata": {
      "needs_background": "light"
     },
     "output_type": "display_data"
    },
    {
     "name": "stderr",
     "output_type": "stream",
     "text": [
      " 51%|█████     | 5101/10000 [17:08<16:27,  4.96it/s]"
     ]
    },
    {
     "name": "stdout",
     "output_type": "stream",
     "text": [
      "total_loss -1585.7853\n",
      "loss -1587.9229\n",
      "l2_loss 2.137617\n"
     ]
    },
    {
     "name": "stderr",
     "output_type": "stream",
     "text": [
      " 52%|█████▏    | 5201/10000 [17:28<16:07,  4.96it/s]"
     ]
    },
    {
     "name": "stdout",
     "output_type": "stream",
     "text": [
      "total_loss -1577.4918\n",
      "loss -1579.6406\n",
      "l2_loss 2.1487453\n"
     ]
    },
    {
     "name": "stderr",
     "output_type": "stream",
     "text": [
      " 53%|█████▎    | 5301/10000 [17:48<15:32,  5.04it/s]"
     ]
    },
    {
     "name": "stdout",
     "output_type": "stream",
     "text": [
      "total_loss -1573.8655\n",
      "loss -1576.0239\n",
      "l2_loss 2.158486\n"
     ]
    },
    {
     "name": "stderr",
     "output_type": "stream",
     "text": [
      " 54%|█████▍    | 5401/10000 [18:08<15:10,  5.05it/s]"
     ]
    },
    {
     "name": "stdout",
     "output_type": "stream",
     "text": [
      "total_loss -1564.9811\n",
      "loss -1567.1433\n",
      "l2_loss 2.1621811\n"
     ]
    },
    {
     "name": "stderr",
     "output_type": "stream",
     "text": [
      " 55%|█████▌    | 5500/10000 [18:28<15:02,  4.99it/s]"
     ]
    },
    {
     "name": "stdout",
     "output_type": "stream",
     "text": [
      "total_loss -1587.8213\n",
      "loss -1589.9883\n",
      "l2_loss 2.1669486\n"
     ]
    },
    {
     "name": "stderr",
     "output_type": "stream",
     "text": [
      " 56%|█████▌    | 5601/10000 [18:48<14:34,  5.03it/s]"
     ]
    },
    {
     "name": "stdout",
     "output_type": "stream",
     "text": [
      "total_loss -1542.7167\n",
      "loss -1544.897\n",
      "l2_loss 2.1802511\n"
     ]
    },
    {
     "name": "stderr",
     "output_type": "stream",
     "text": [
      " 57%|█████▋    | 5701/10000 [19:08<14:21,  4.99it/s]"
     ]
    },
    {
     "name": "stdout",
     "output_type": "stream",
     "text": [
      "total_loss -1593.8264\n",
      "loss -1596.0093\n",
      "l2_loss 2.1828072\n"
     ]
    },
    {
     "name": "stderr",
     "output_type": "stream",
     "text": [
      " 58%|█████▊    | 5800/10000 [19:28<13:37,  5.14it/s]"
     ]
    },
    {
     "name": "stdout",
     "output_type": "stream",
     "text": [
      "total_loss -1593.0426\n",
      "loss -1595.233\n",
      "l2_loss 2.1904626\n"
     ]
    },
    {
     "name": "stderr",
     "output_type": "stream",
     "text": [
      " 59%|█████▉    | 5901/10000 [19:48<13:45,  4.97it/s]"
     ]
    },
    {
     "name": "stdout",
     "output_type": "stream",
     "text": [
      "total_loss -1572.3606\n",
      "loss -1574.5625\n",
      "l2_loss 2.2018588\n"
     ]
    },
    {
     "name": "stderr",
     "output_type": "stream",
     "text": [
      " 60%|█████▉    | 5999/10000 [20:08<13:20,  5.00it/s]"
     ]
    },
    {
     "name": "stdout",
     "output_type": "stream",
     "text": [
      "total_loss -1574.5402\n",
      "loss -1576.7513\n",
      "l2_loss 2.2112057\n"
     ]
    },
    {
     "data": {
      "image/png": "[encoded data removed]",
      "text/plain": [
       "<Figure size 1080x216 with 3 Axes>"
      ]
     },
     "metadata": {
      "needs_background": "light"
     },
     "output_type": "display_data"
    },
    {
     "name": "stderr",
     "output_type": "stream",
     "text": [
      " 61%|██████    | 6100/10000 [20:28<13:15,  4.91it/s]"
     ]
    },
    {
     "name": "stdout",
     "output_type": "stream",
     "text": [
      "total_loss -1575.2338\n",
      "loss -1577.4563\n",
      "l2_loss 2.2225695\n"
     ]
    },
    {
     "name": "stderr",
     "output_type": "stream",
     "text": [
      " 62%|██████▏   | 6201/10000 [20:49<12:29,  5.07it/s]"
     ]
    },
    {
     "name": "stdout",
     "output_type": "stream",
     "text": [
      "total_loss -1595.1589\n",
      "loss -1597.3909\n",
      "l2_loss 2.2319078\n"
     ]
    },
    {
     "name": "stderr",
     "output_type": "stream",
     "text": [
      " 63%|██████▎   | 6301/10000 [21:09<12:26,  4.96it/s]"
     ]
    },
    {
     "name": "stdout",
     "output_type": "stream",
     "text": [
      "total_loss -1613.3118\n",
      "loss -1615.5548\n",
      "l2_loss 2.2430754\n"
     ]
    },
    {
     "name": "stderr",
     "output_type": "stream",
     "text": [
      " 64%|██████▍   | 6400/10000 [21:29<12:11,  4.92it/s]"
     ]
    },
    {
     "name": "stdout",
     "output_type": "stream",
     "text": [
      "total_loss -1577.7098\n",
      "loss -1579.9597\n",
      "l2_loss 2.2498782\n"
     ]
    },
    {
     "name": "stderr",
     "output_type": "stream",
     "text": [
      " 65%|██████▌   | 6501/10000 [21:49<11:24,  5.11it/s]"
     ]
    },
    {
     "name": "stdout",
     "output_type": "stream",
     "text": [
      "total_loss -1589.7526\n",
      "loss -1592.0137\n",
      "l2_loss 2.2610598\n"
     ]
    },
    {
     "name": "stderr",
     "output_type": "stream",
     "text": [
      " 66%|██████▌   | 6601/10000 [22:09<11:28,  4.94it/s]"
     ]
    },
    {
     "name": "stdout",
     "output_type": "stream",
     "text": [
      "total_loss -1616.3134\n",
      "loss -1618.575\n",
      "l2_loss 2.261551\n"
     ]
    },
    {
     "name": "stderr",
     "output_type": "stream",
     "text": [
      " 67%|██████▋   | 6700/10000 [22:29<11:32,  4.76it/s]"
     ]
    },
    {
     "name": "stdout",
     "output_type": "stream",
     "text": [
      "total_loss -1588.2833\n",
      "loss -1590.5591\n",
      "l2_loss 2.275768\n"
     ]
    },
    {
     "name": "stderr",
     "output_type": "stream",
     "text": [
      " 68%|██████▊   | 6801/10000 [22:49<10:21,  5.15it/s]"
     ]
    },
    {
     "name": "stdout",
     "output_type": "stream",
     "text": [
      "total_loss -1612.7881\n",
      "loss -1615.0801\n",
      "l2_loss 2.2919824\n"
     ]
    },
    {
     "name": "stderr",
     "output_type": "stream",
     "text": [
      " 69%|██████▉   | 6900/10000 [23:09<10:54,  4.74it/s]"
     ]
    },
    {
     "name": "stdout",
     "output_type": "stream",
     "text": [
      "total_loss -1584.2736\n",
      "loss -1586.5674\n",
      "l2_loss 2.2938352\n"
     ]
    },
    {
     "name": "stderr",
     "output_type": "stream",
     "text": [
      " 70%|██████▉   | 6999/10000 [23:29<10:12,  4.90it/s]"
     ]
    },
    {
     "name": "stdout",
     "output_type": "stream",
     "text": [
      "total_loss -1580.4872\n",
      "loss -1582.7888\n",
      "l2_loss 2.3016136\n"
     ]
    },
    {
     "data": {
      "image/png": "[encoded data removed]",
      "text/plain": [
       "<Figure size 1080x216 with 3 Axes>"
      ]
     },
     "metadata": {
      "needs_background": "light"
     },
     "output_type": "display_data"
    },
    {
     "name": "stderr",
     "output_type": "stream",
     "text": [
      " 71%|███████   | 7100/10000 [23:50<10:07,  4.78it/s]"
     ]
    },
    {
     "name": "stdout",
     "output_type": "stream",
     "text": [
      "total_loss -1608.319\n",
      "loss -1610.6372\n",
      "l2_loss 2.3182974\n"
     ]
    },
    {
     "name": "stderr",
     "output_type": "stream",
     "text": [
      " 72%|███████▏  | 7201/10000 [24:10<09:19,  5.00it/s]"
     ]
    },
    {
     "name": "stdout",
     "output_type": "stream",
     "text": [
      "total_loss -1588.1696\n",
      "loss -1590.4883\n",
      "l2_loss 2.318713\n"
     ]
    },
    {
     "name": "stderr",
     "output_type": "stream",
     "text": [
      " 73%|███████▎  | 7300/10000 [24:30<09:16,  4.85it/s]"
     ]
    },
    {
     "name": "stdout",
     "output_type": "stream",
     "text": [
      "total_loss -1618.1619\n",
      "loss -1620.4907\n",
      "l2_loss 2.3287997\n"
     ]
    },
    {
     "name": "stderr",
     "output_type": "stream",
     "text": [
      " 74%|███████▍  | 7401/10000 [24:51<08:48,  4.92it/s]"
     ]
    },
    {
     "name": "stdout",
     "output_type": "stream",
     "text": [
      "total_loss -1595.1658\n",
      "loss -1597.5046\n",
      "l2_loss 2.3389065\n"
     ]
    },
    {
     "name": "stderr",
     "output_type": "stream",
     "text": [
      " 75%|███████▌  | 7501/10000 [25:11<08:31,  4.88it/s]"
     ]
    },
    {
     "name": "stdout",
     "output_type": "stream",
     "text": [
      "total_loss -1595.4076\n",
      "loss -1597.7412\n",
      "l2_loss 2.3335962\n"
     ]
    },
    {
     "name": "stderr",
     "output_type": "stream",
     "text": [
      " 76%|███████▌  | 7600/10000 [25:31<08:03,  4.96it/s]"
     ]
    },
    {
     "name": "stdout",
     "output_type": "stream",
     "text": [
      "total_loss -1596.1833\n",
      "loss -1598.5247\n",
      "l2_loss 2.3413527\n"
     ]
    },
    {
     "name": "stderr",
     "output_type": "stream",
     "text": [
      " 77%|███████▋  | 7701/10000 [25:51<07:36,  5.04it/s]"
     ]
    },
    {
     "name": "stdout",
     "output_type": "stream",
     "text": [
      "total_loss -1476.9161\n",
      "loss -1479.2736\n",
      "l2_loss 2.3574347\n"
     ]
    },
    {
     "name": "stderr",
     "output_type": "stream",
     "text": [
      " 78%|███████▊  | 7800/10000 [26:11<07:28,  4.91it/s]"
     ]
    },
    {
     "name": "stdout",
     "output_type": "stream",
     "text": [
      "total_loss -1563.0304\n",
      "loss -1565.4087\n",
      "l2_loss 2.378298\n"
     ]
    },
    {
     "name": "stderr",
     "output_type": "stream",
     "text": [
      " 79%|███████▉  | 7900/10000 [26:31<06:52,  5.09it/s]"
     ]
    },
    {
     "name": "stdout",
     "output_type": "stream",
     "text": [
      "total_loss -1559.9753\n",
      "loss -1562.3549\n",
      "l2_loss 2.3795168\n"
     ]
    },
    {
     "name": "stderr",
     "output_type": "stream",
     "text": [
      " 80%|███████▉  | 7999/10000 [26:51<06:54,  4.83it/s]"
     ]
    },
    {
     "name": "stdout",
     "output_type": "stream",
     "text": [
      "total_loss -1582.0988\n",
      "loss -1584.4917\n",
      "l2_loss 2.3929234\n"
     ]
    },
    {
     "data": {
      "image/png": "[encoded data removed]",
      "text/plain": [
       "<Figure size 1080x216 with 3 Axes>"
      ]
     },
     "metadata": {
      "needs_background": "light"
     },
     "output_type": "display_data"
    },
    {
     "name": "stderr",
     "output_type": "stream",
     "text": [
      " 81%|████████  | 8100/10000 [27:12<06:23,  4.96it/s]"
     ]
    },
    {
     "name": "stdout",
     "output_type": "stream",
     "text": [
      "total_loss -1569.3662\n",
      "loss -1571.7672\n",
      "l2_loss 2.4010344\n"
     ]
    },
    {
     "name": "stderr",
     "output_type": "stream",
     "text": [
      " 82%|████████▏ | 8200/10000 [27:32<06:07,  4.90it/s]"
     ]
    },
    {
     "name": "stdout",
     "output_type": "stream",
     "text": [
      "total_loss -1600.5162\n",
      "loss -1602.925\n",
      "l2_loss 2.4088333\n"
     ]
    },
    {
     "name": "stderr",
     "output_type": "stream",
     "text": [
      " 83%|████████▎ | 8300/10000 [27:52<05:41,  4.98it/s]"
     ]
    },
    {
     "name": "stdout",
     "output_type": "stream",
     "text": [
      "total_loss -1573.6163\n",
      "loss -1576.0244\n",
      "l2_loss 2.4080765\n"
     ]
    },
    {
     "name": "stderr",
     "output_type": "stream",
     "text": [
      " 84%|████████▍ | 8400/10000 [28:12<05:36,  4.76it/s]"
     ]
    },
    {
     "name": "stdout",
     "output_type": "stream",
     "text": [
      "total_loss -1587.1207\n",
      "loss -1589.5425\n",
      "l2_loss 2.4217267\n"
     ]
    },
    {
     "name": "stderr",
     "output_type": "stream",
     "text": [
      " 85%|████████▌ | 8501/10000 [28:33<05:09,  4.84it/s]"
     ]
    },
    {
     "name": "stdout",
     "output_type": "stream",
     "text": [
      "total_loss -1580.2145\n",
      "loss -1582.648\n",
      "l2_loss 2.433463\n"
     ]
    },
    {
     "name": "stderr",
     "output_type": "stream",
     "text": [
      " 86%|████████▌ | 8600/10000 [28:53<04:45,  4.90it/s]"
     ]
    },
    {
     "name": "stdout",
     "output_type": "stream",
     "text": [
      "total_loss -1563.7278\n",
      "loss -1566.1692\n",
      "l2_loss 2.4413857\n"
     ]
    },
    {
     "name": "stderr",
     "output_type": "stream",
     "text": [
      " 87%|████████▋ | 8700/10000 [29:13<04:22,  4.96it/s]"
     ]
    },
    {
     "name": "stdout",
     "output_type": "stream",
     "text": [
      "total_loss -1585.5565\n",
      "loss -1588.0044\n",
      "l2_loss 2.4478884\n"
     ]
    },
    {
     "name": "stderr",
     "output_type": "stream",
     "text": [
      " 88%|████████▊ | 8800/10000 [29:33<04:05,  4.89it/s]"
     ]
    },
    {
     "name": "stdout",
     "output_type": "stream",
     "text": [
      "total_loss -1596.2708\n",
      "loss -1598.7148\n",
      "l2_loss 2.4440699\n"
     ]
    },
    {
     "name": "stderr",
     "output_type": "stream",
     "text": [
      " 89%|████████▉ | 8901/10000 [29:53<03:49,  4.79it/s]"
     ]
    },
    {
     "name": "stdout",
     "output_type": "stream",
     "text": [
      "total_loss -1576.22\n",
      "loss -1578.6833\n",
      "l2_loss 2.4634058\n"
     ]
    },
    {
     "name": "stderr",
     "output_type": "stream",
     "text": [
      " 90%|████████▉ | 8999/10000 [30:13<03:21,  4.97it/s]"
     ]
    },
    {
     "name": "stdout",
     "output_type": "stream",
     "text": [
      "total_loss -1595.3538\n",
      "loss -1597.8164\n",
      "l2_loss 2.4626048\n"
     ]
    },
    {
     "data": {
      "image/png": "[encoded data removed]",
      "text/plain": [
       "<Figure size 1080x216 with 3 Axes>"
      ]
     },
     "metadata": {
      "needs_background": "light"
     },
     "output_type": "display_data"
    },
    {
     "name": "stderr",
     "output_type": "stream",
     "text": [
      " 91%|█████████ | 9100/10000 [30:34<03:02,  4.92it/s]"
     ]
    },
    {
     "name": "stdout",
     "output_type": "stream",
     "text": [
      "total_loss -1603.7906\n",
      "loss -1606.2559\n",
      "l2_loss 2.465214\n"
     ]
    },
    {
     "name": "stderr",
     "output_type": "stream",
     "text": [
      " 92%|█████████▏| 9201/10000 [30:54<02:41,  4.95it/s]"
     ]
    },
    {
     "name": "stdout",
     "output_type": "stream",
     "text": [
      "total_loss -1578.4376\n",
      "loss -1580.9036\n",
      "l2_loss 2.4658933\n"
     ]
    },
    {
     "name": "stderr",
     "output_type": "stream",
     "text": [
      " 93%|█████████▎| 9300/10000 [31:14<02:20,  4.99it/s]"
     ]
    },
    {
     "name": "stdout",
     "output_type": "stream",
     "text": [
      "total_loss -1580.8988\n",
      "loss -1583.3689\n",
      "l2_loss 2.4700942\n"
     ]
    },
    {
     "name": "stderr",
     "output_type": "stream",
     "text": [
      " 94%|█████████▍| 9400/10000 [31:34<02:02,  4.90it/s]"
     ]
    },
    {
     "name": "stdout",
     "output_type": "stream",
     "text": [
      "total_loss -1574.4323\n",
      "loss -1576.9045\n",
      "l2_loss 2.4722822\n"
     ]
    },
    {
     "name": "stderr",
     "output_type": "stream",
     "text": [
      " 95%|█████████▌| 9500/10000 [31:55<01:42,  4.86it/s]"
     ]
    },
    {
     "name": "stdout",
     "output_type": "stream",
     "text": [
      "total_loss -1561.2578\n",
      "loss -1563.7252\n",
      "l2_loss 2.467445\n"
     ]
    },
    {
     "name": "stderr",
     "output_type": "stream",
     "text": [
      " 96%|█████████▌| 9600/10000 [32:14<01:22,  4.84it/s]"
     ]
    },
    {
     "name": "stdout",
     "output_type": "stream",
     "text": [
      "total_loss -1589.9071\n",
      "loss -1592.385\n",
      "l2_loss 2.4778452\n"
     ]
    },
    {
     "name": "stderr",
     "output_type": "stream",
     "text": [
      " 97%|█████████▋| 9701/10000 [32:35<00:59,  4.99it/s]"
     ]
    },
    {
     "name": "stdout",
     "output_type": "stream",
     "text": [
      "total_loss -1575.991\n",
      "loss -1578.4707\n",
      "l2_loss 2.4797337\n"
     ]
    },
    {
     "name": "stderr",
     "output_type": "stream",
     "text": [
      " 98%|█████████▊| 9801/10000 [32:55<00:40,  4.95it/s]"
     ]
    },
    {
     "name": "stdout",
     "output_type": "stream",
     "text": [
      "total_loss -1603.0778\n",
      "loss -1605.5583\n",
      "l2_loss 2.4805899\n"
     ]
    },
    {
     "name": "stderr",
     "output_type": "stream",
     "text": [
      " 99%|█████████▉| 9901/10000 [33:15<00:19,  5.03it/s]"
     ]
    },
    {
     "name": "stdout",
     "output_type": "stream",
     "text": [
      "total_loss -1583.6195\n",
      "loss -1586.1011\n",
      "l2_loss 2.4815953\n"
     ]
    },
    {
     "name": "stderr",
     "output_type": "stream",
     "text": [
      "100%|█████████▉| 9999/10000 [33:35<00:00,  5.03it/s]"
     ]
    },
    {
     "name": "stdout",
     "output_type": "stream",
     "text": [
      "total_loss -1610.728\n",
      "loss -1613.2139\n",
      "l2_loss 2.485809\n"
     ]
    },
    {
     "data": {
      "image/png": "[encoded data removed]",
      "text/plain": [
       "<Figure size 1080x216 with 3 Axes>"
      ]
     },
     "metadata": {
      "needs_background": "light"
     },
     "output_type": "display_data"
    },
    {
     "name": "stderr",
     "output_type": "stream",
     "text": [
      "100%|██████████| 10000/10000 [33:35<00:00,  4.96it/s]\n"
     ]
    }
   ],
   "source": [
    "utils.trainer(\n",
    "    sess, x_train_samples, images,\n",
    "    num_steps=100000, \n",
    "    train_op=train_op, \n",
    "    feed_dict_fn=lambda: {lr_ph: 0.001, beta_ph: 1.0}, \n",
    "    metrics=[metrics], \n",
    "    hooks=[plot_metrics_hook]\n",
    ")"
   ]
  },
  {
   "cell_type": "code",
   "execution_count": 37,
   "metadata": {},
   "outputs": [
    {
     "data": {
      "text/plain": [
       "'./checkpoints/mnist-glow.ckpt'"
      ]
     },
     "execution_count": 37,
     "metadata": {},
     "output_type": "execute_result"
    }
   ],
   "source": [
    "saver = tf.compat.v1.train.Saver()\n",
    "saver.save(sess, \"./checkpoints_lr\"+str(0.001)+\"/\" + 'mnist-glow' + \".ckpt\")"
   ]
  },
  {
   "cell_type": "code",
   "execution_count": 38,
   "metadata": {},
   "outputs": [
    {
     "name": "stdout",
     "output_type": "stream",
     "text": [
      "INFO:tensorflow:Restoring parameters from ./checkpoints/mnist-glow.ckpt\n"
     ]
    }
   ],
   "source": [
    "new_saver = tf.train.import_meta_graph('./checkpoints_lr0.001/mnist-glow.ckpt.meta')\n",
    "new_saver.restore(sess, tf.train.latest_checkpoint('./checkpoints'))"
   ]
  },
  {
   "cell_type": "code",
   "execution_count": 39,
   "metadata": {},
   "outputs": [
    {
     "data": {
      "image/png": "[encoded data removed]",
      "text/plain": [
       "<Figure size 288x288 with 16 Axes>"
      ]
     },
     "metadata": {},
     "output_type": "display_data"
    }
   ],
   "source": [
    "x_samples_np = x_flow_sampled.eval(feed_dict={lr_ph: 0.0, beta_ph: 1.0})\n",
    "utils.plot_4x4_grid(x_samples_np, shape=x_samples_np.shape[1:3])"
   ]
  },
  {
   "cell_type": "markdown",
   "metadata": {},
   "source": [
    "### Train model with lr=0.001"
   ]
  },
  {
   "cell_type": "code",
   "execution_count": null,
   "metadata": {},
   "outputs": [],
   "source": [
    "utils.trainer(\n",
    "    sess, \n",
    "    num_steps=10000, \n",
    "    train_op=train_op, \n",
    "    feed_dict_fn=lambda: {lr_ph: 0.001, beta_ph: 1.}, \n",
    "    metrics=[metrics], \n",
    "    hooks=[plot_metrics_hook]\n",
    ")"
   ]
  },
  {
   "cell_type": "code",
   "execution_count": null,
   "metadata": {},
   "outputs": [],
   "source": [
    "x_samples_np = x_flow_sampled.eval(feed_dict={lr_ph: 0.0, beta_ph: 0.6})\n",
    "utils.plot_4x4_grid(x_samples_np, shape=x_samples_np.shape[1:3])"
   ]
  },
  {
   "cell_type": "markdown",
   "metadata": {},
   "source": [
    "### Train model with lr=0.0001"
   ]
  },
  {
   "cell_type": "code",
   "execution_count": null,
   "metadata": {
    "scrolled": true
   },
   "outputs": [],
   "source": [
    "utils.trainer(\n",
    "    sess, \n",
    "    num_steps=10000, \n",
    "    train_op=train_op, \n",
    "    feed_dict_fn=lambda: {lr_ph: 0.0001, beta_ph: 1.}, \n",
    "    metrics=[metrics], \n",
    "    hooks=[plot_metrics_hook]\n",
    ")"
   ]
  },
  {
   "cell_type": "code",
   "execution_count": null,
   "metadata": {},
   "outputs": [],
   "source": [
    "x_samples_np = x_flow_sampled.eval(feed_dict={lr_ph: 0.0, beta_ph: 0.7})\n",
    "utils.plot_4x4_grid(x_samples_np, shape=x_samples_np.shape[1:3])"
   ]
  },
  {
   "cell_type": "markdown",
   "metadata": {},
   "source": [
    "### Long train ..."
   ]
  },
  {
   "cell_type": "code",
   "execution_count": null,
   "metadata": {},
   "outputs": [],
   "source": [
    "utils.trainer(\n",
    "    sess, \n",
    "    num_steps=100000, \n",
    "    train_op=train_op, \n",
    "    feed_dict_fn=lambda: {lr_ph: 0.0001, beta_ph: 1.}, \n",
    "    metrics=[metrics], \n",
    "    hooks=[plot_metrics_hook]\n",
    ")"
   ]
  },
  {
   "cell_type": "markdown",
   "metadata": {},
   "source": [
    "## Generate samples for different temperatures\n",
    "\n",
    "We start from zero T i.e. the input standard deviation is zero. We can see simialar \n",
    "conclusion as in paper, sampling from reduced temperature yield in better results."
   ]
  },
  {
   "cell_type": "code",
   "execution_count": null,
   "metadata": {},
   "outputs": [],
   "source": [
    "for beta in np.linspace(0.0, 1.5, 10):\n",
    "    print(f\"beta={beta:10.4f}\")\n",
    "    x_samples_np = x_flow_sampled.eval(feed_dict={lr_ph: 0.0, beta_ph: beta})\n",
    "    utils.plot_4x4_grid(x_samples_np, shape=x_samples_np.shape[1:3])\n",
    "    plt.show()"
   ]
  },
  {
   "cell_type": "code",
   "execution_count": null,
   "metadata": {},
   "outputs": [],
   "source": [
    "plot_metrics_hook.run()"
   ]
  },
  {
   "cell_type": "markdown",
   "metadata": {},
   "source": [
    "## Investigate latent space statistics\n",
    "Check whether the distribution of the latent variables fits the prior distribution. We should observe gaussian"
   ]
  },
  {
   "cell_type": "code",
   "execution_count": null,
   "metadata": {},
   "outputs": [],
   "source": [
    "y_flatten_np = np.concatenate([y_flatten.eval({lr_ph: 0.0, beta_ph: 1.0}) for i in range(100)])\n",
    "y_flatten_np.shape"
   ]
  },
  {
   "cell_type": "markdown",
   "metadata": {},
   "source": [
    "### 2D scatter plot for 0-th and 1-st latent variable"
   ]
  },
  {
   "cell_type": "code",
   "execution_count": null,
   "metadata": {},
   "outputs": [],
   "source": [
    "plt.scatter(y_flatten_np[:, 0], y_flatten_np[:, 1], label=\"sampled\")\n",
    "plt.scatter(*np.random.randn(2, 1000), alpha=0.7, label=\"N(0, 1)\")\n",
    "plt.axis(\"equal\")\n",
    "plt.legend()"
   ]
  },
  {
   "cell_type": "markdown",
   "metadata": {},
   "source": [
    "### Histogram of all activations of Y latent variable"
   ]
  },
  {
   "cell_type": "code",
   "execution_count": null,
   "metadata": {},
   "outputs": [],
   "source": [
    "_ = plt.hist(y_flatten_np.reshape([-1]), 100, density=True)\n",
    "x_axis = np.arange(-4, 4, 0.01)\n",
    "plt.plot(x_axis, norm.pdf(x_axis, 0, 1))\n",
    "plt.xlim([-4, 4])"
   ]
  },
  {
   "cell_type": "markdown",
   "metadata": {},
   "source": [
    "### Histogram of all activations of Z latent variable"
   ]
  },
  {
   "cell_type": "code",
   "execution_count": null,
   "metadata": {
    "ExecuteTime": {
     "end_time": "2018-10-04T13:29:52.404132Z",
     "start_time": "2018-10-04T13:29:52.088580Z"
    }
   },
   "outputs": [],
   "source": [
    "z_flatten_np = np.concatenate([z_flatten.eval({lr_ph: 0.0, beta_ph: 1.0}) for i in range(100)])\n",
    "_ = plt.hist(z_flatten_np.reshape([-1]), 200, density=True)\n",
    "x_axis = np.arange(-4, 4, 0.01)\n",
    "plt.plot(x_axis, norm.pdf(x_axis, 0, 1))\n",
    "plt.xlim([-4, 4])"
   ]
  },
  {
   "cell_type": "markdown",
   "metadata": {},
   "source": [
    "## Tuning temperature separatelly for Y and Z latent variables\n",
    "\n",
    "This seems to generate the best results when the temperature of the distribution of the Z variable is close \n",
    "or equal zero. "
   ]
  },
  {
   "cell_type": "code",
   "execution_count": null,
   "metadata": {},
   "outputs": [],
   "source": [
    "beta_y_ph = tf.placeholder(tf.float32, [])\n",
    "beta_z_ph = tf.placeholder(tf.float32, [])\n",
    "prior_y_prim = tfd.MultivariateNormalDiag(\n",
    "    loc=tf.zeros_like(y_flatten), scale_diag=beta_y_ph * tf.ones_like(y_flatten))\n",
    "prior_z_prim = tfd.MultivariateNormalDiag(\n",
    "    loc=tf.zeros_like(z_flatten), scale_diag=beta_z_ph * tf.ones_like(z_flatten))"
   ]
  },
  {
   "cell_type": "code",
   "execution_count": null,
   "metadata": {},
   "outputs": [],
   "source": [
    "sample_y_flatten_prim = prior_y_prim.sample()\n",
    "sample_y_prim = tf.reshape(sample_y_flatten_prim, y.shape.as_list())\n",
    "sample_z_prim = tf.reshape(prior_z_prim.sample(), z.shape.as_list())\n",
    "sampled_logdet_prim = prior_y_prim.log_prob(sample_y_flatten_prim)"
   ]
  },
  {
   "cell_type": "code",
   "execution_count": null,
   "metadata": {},
   "outputs": [],
   "source": [
    "inverse_flow_prim = sample_y_prim, sampled_logdet_prim, sample_z_prim\n",
    "sampled_flow_prim = model_flow(inverse_flow_prim, forward=False)"
   ]
  },
  {
   "cell_type": "code",
   "execution_count": null,
   "metadata": {},
   "outputs": [],
   "source": [
    "x_flow_sampled_prim, _, _ = sampled_flow_prim"
   ]
  },
  {
   "cell_type": "markdown",
   "metadata": {},
   "source": [
    "### Efect of the temperature on the Z latent variable"
   ]
  },
  {
   "cell_type": "code",
   "execution_count": null,
   "metadata": {},
   "outputs": [],
   "source": [
    "for beta in np.linspace(0.0, 1.0, 10):\n",
    "    print(f\"beta={beta:10.4f}\")\n",
    "    x_samples_np = x_flow_sampled_prim.eval(\n",
    "        feed_dict={\n",
    "            lr_ph: 0.0,\n",
    "            beta_y_ph: 1.0, \n",
    "            beta_z_ph: beta\n",
    "        }\n",
    "    )\n",
    "    utils.plot_4x4_grid(x_samples_np, shape=x_samples_np.shape[1:3])\n",
    "    plt.show()"
   ]
  },
  {
   "cell_type": "markdown",
   "metadata": {},
   "source": [
    "### Efect of the temperature on the Y latent variable when beta_z=0.1"
   ]
  },
  {
   "cell_type": "code",
   "execution_count": null,
   "metadata": {},
   "outputs": [],
   "source": [
    "for beta in np.linspace(0.0, 1.0, 10):\n",
    "    print(f\"beta={beta:10.4f}\")\n",
    "    x_samples_np = x_flow_sampled_prim.eval(\n",
    "        feed_dict={\n",
    "            lr_ph: 0.0,\n",
    "            beta_y_ph: beta, \n",
    "            beta_z_ph: 0.1\n",
    "        }\n",
    "    )\n",
    "    utils.plot_4x4_grid(x_samples_np, shape=x_samples_np.shape[1:3])\n",
    "    plt.show()"
   ]
  },
  {
   "cell_type": "code",
   "execution_count": null,
   "metadata": {},
   "outputs": [],
   "source": []
  }
 ],
 "metadata": {
  "kernelspec": {
   "display_name": "Python 3",
   "language": "python",
   "name": "python3"
  },
  "language_info": {
   "codemirror_mode": {
    "name": "ipython",
    "version": 3
   },
   "file_extension": ".py",
   "mimetype": "text/x-python",
   "name": "python",
   "nbconvert_exporter": "python",
   "pygments_lexer": "ipython3",
   "version": "3.7.6"
  },
  "toc": {
   "colors": {
    "hover_highlight": "#DAA520",
    "navigate_num": "#000000",
    "navigate_text": "#333333",
    "running_highlight": "#FF0000",
    "selected_highlight": "#FFD700",
    "sidebar_border": "#EEEEEE",
    "wrapper_background": "#FFFFFF"
   },
   "moveMenuLeft": true,
   "nav_menu": {
    "height": "512px",
    "width": "252px"
   },
   "navigate_menu": true,
   "number_sections": true,
   "sideBar": true,
   "threshold": 4,
   "toc_cell": false,
   "toc_section_display": "block",
   "toc_window_display": true,
   "widenNotebook": false
  },
  "varInspector": {
   "cols": {
    "lenName": 16,
    "lenType": 16,
    "lenVar": 40
   },
   "kernels_config": {
    "python": {
     "delete_cmd_postfix": "",
     "delete_cmd_prefix": "del ",
     "library": "var_list.py",
     "varRefreshCmd": "print(var_dic_list())"
    },
    "r": {
     "delete_cmd_postfix": ") ",
     "delete_cmd_prefix": "rm(",
     "library": "var_list.r",
     "varRefreshCmd": "cat(var_dic_list()) "
    }
   },
   "types_to_exclude": [
    "module",
    "function",
    "builtin_function_or_method",
    "instance",
    "_Feature"
   ],
   "window_display": false
  }
 },
 "nbformat": 4,
 "nbformat_minor": 2
}
